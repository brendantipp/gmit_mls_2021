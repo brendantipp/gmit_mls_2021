{
 "cells": [
  {
   "cell_type": "markdown",
   "metadata": {},
   "source": [
    "![Scipy Logo](images/scipy_logo2.PNG)"
   ]
  },
  {
   "cell_type": "markdown",
   "metadata": {},
   "source": [
    "## An Overview of Scipy and Scipy.Stats"
   ]
  },
  {
   "cell_type": "markdown",
   "metadata": {},
   "source": [
    "---"
   ]
  },
  {
   "cell_type": "markdown",
   "metadata": {},
   "source": [
    "### **Firstly what is SciPy**\n",
    "\n",
    "SciPy is an open source scientific library for Python which gives us the ability to perform Mathematical, Scientific and Engineering Computations. SciPy also provides algorithms for optimization, integration, interpolation, eigenvalue problems, algebraic equations, differential equations, statistics and many other classes of problems..\n",
    "\n",
    "The SciPy library is built to work with NumPy arrays and provides use with many user-friendly and efficient numerical practices such as routines for numerical integration and optimization. NumPy and SciPy are easy to use, but powerful enough to be used by some of the world's leading scientists and engineers.!!! \n",
    "\n",
    "#### **What is SciPy.stats?**\n",
    "\n",
    "All of the statistics functions of the SciPy library are located in the sub-package named scipy.stats. used for statistical analysis\n",
    "\n",
    "##### **Uses of SciPy.stats**\n",
    "\n",
    "From my research I found out that the stats module scipy.stats is a very important feature of SciPy. \n",
    "\n",
    "It is useful for obtaining probabilistic distributions. SciPy Stats can generate discrete or continuous random numbers. It also consists of many other functions to generate descriptive statistical values. We can deal with random, continuous, and random variables. It also has functions for working with various types of distributions. \n",
    "\n",
    "It offers us the ability to perform a wide range of statistic analysis."
   ]
  },
  {
   "cell_type": "markdown",
   "metadata": {},
   "source": [
    "[1] https://scipy.org/\n",
    "\n",
    "[2] https://www.tutorialspoint.com/scipy/scipy_quick_guide.htm\n",
    "\n",
    "[3] https://docs.scipy.org/doc/scipy/reference/stats.html"
   ]
  },
  {
   "cell_type": "markdown",
   "metadata": {},
   "source": [
    "### **Overview of ANOVA Testing**"
   ]
  },
  {
   "cell_type": "markdown",
   "metadata": {},
   "source": [
    "ANOVA is a means of comparing the ratio of systematic variance to unsystematic variance in an experimental study. Variance in the ANOVA is partitioned into total variance, variance due to groups, and variance due to individual differences.\n",
    "\n",
    "The ratio obtained when doing this comparison is known as the F-ratio. A one-way ANOVA can be seen as a regression model with a single categorical predictor. This predictor usually has two plus categories. A one-way ANOVA has a single factor with J levels. Each level corresponds to the groups in the independent measures design\n",
    "\n",
    "Each experimental condition should have roughly the same variance (i.e., homogeneity of variance), the observations (e.g., each group) should be independent, and the dependent variable should be measured on, at least,  an interval scale.\n",
    "https://www.marsja.se/four-ways-to-conduct-one-way-anovas-using-python/\n",
    "\n",
    "\n",
    "#### Assumptions \n",
    "- Assumption 1: Dependent variable*** -Dependent variable should be measured at the interval or ratio level\n",
    "- Assumption 2: Independent variable*** - Independent variable should consist of two or more categorical, independent groups.\n",
    "- Assumption 3: You should have independence of observations, which means that there is no relationship between the observations in each group or between the groups themselves\n",
    "- Assumption 4: Outliers - There should be no significant outliers.\n",
    "- Assumption 5: Normality -  Dependent variable should be approximately normally distributed for each category of the independent variable.\n",
    "- Assumption 6: Homogeneity of Variances - There needs to be homogeneity of variances\n",
    "\n",
    "I will go through these 6 assumptions below when performing my Anova Testing below on my sample datasets.\n"
   ]
  },
  {
   "cell_type": "markdown",
   "metadata": {},
   "source": [
    "#### A word on T - Tests "
   ]
  },
  {
   "cell_type": "markdown",
   "metadata": {},
   "source": [
    "T Test  is a statistical significance test that is used to compare the means of two groups and determine if the difference in means is statistically significant.\n",
    "\n",
    "T-tests are several types of hypothesis testing and are among the most common statistical tests performed in world. Tests include on sample, standard t-Test and paired sample. In general they all follow the same pattern.\n",
    "\n",
    "Example -  we could use a independent t-test to understand whether first year graduate salaries differed based on gender (i.e., your dependent variable would be \"first year graduate salaries\" and your independent variable would be \"gender\", which has two groups: \"male\" and \"female\")."
   ]
  },
  {
   "cell_type": "markdown",
   "metadata": {},
   "source": [
    "##### t-Test demo\n",
    "\n",
    "I am going to perfrom a demo t-Test oon te grades dataset which is availabel at []. The aim of the test is to is see is the diffenrce in the mean final grade is statiscally significant per gender (male or female)"
   ]
  },
  {
   "cell_type": "markdown",
   "metadata": {},
   "source": [
    "_________________"
   ]
  },
  {
   "cell_type": "markdown",
   "metadata": {},
   "source": [
    "I will start with my imports, importing the standard ones numpy, seaborn, pandss etc and then the Scipy stats molibrary and the t-Test module required"
   ]
  },
  {
   "cell_type": "code",
   "execution_count": 1,
   "metadata": {},
   "outputs": [],
   "source": [
    "# Numerical arrays.\n",
    "import numpy as np\n",
    "# Plotting.\n",
    "import seaborn as sns\n",
    "#pandas for dataframes \n",
    "import pandas as pd\n",
    "# Stats scipy stats\n",
    "import scipy.stats as ss\n",
    "## scipy stats t-Test\n",
    "from scipy.stats import ttest_ind"
   ]
  },
  {
   "cell_type": "markdown",
   "metadata": {},
   "source": [
    "Next i will import in my test datasets - this will be the Grades Dataset and will import it using pandas as a data frame"
   ]
  },
  {
   "cell_type": "code",
   "execution_count": 2,
   "metadata": {},
   "outputs": [],
   "source": [
    "#import in my dataset\n",
    "df_grades = pd.read_csv('datasets/grades/exam_grades.csv')"
   ]
  },
  {
   "cell_type": "code",
   "execution_count": 6,
   "metadata": {},
   "outputs": [
    {
     "name": "stdout",
     "output_type": "stream",
     "text": [
      "<class 'pandas.core.frame.DataFrame'>\n",
      "RangeIndex: 232 entries, 0 to 231\n",
      "Data columns (total 6 columns):\n",
      " #   Column        Non-Null Count  Dtype  \n",
      "---  ------        --------------  -----  \n",
      " 0   ID            232 non-null    int64  \n",
      " 1   sex           232 non-null    object \n",
      " 2   exam1         232 non-null    float64\n",
      " 3   exam2         232 non-null    float64\n",
      " 4   exam3         232 non-null    float64\n",
      " 5   course_grade  232 non-null    float64\n",
      "dtypes: float64(4), int64(1), object(1)\n",
      "memory usage: 11.0+ KB\n"
     ]
    }
   ],
   "source": [
    "df_grades.info()"
   ]
  },
  {
   "cell_type": "code",
   "execution_count": 15,
   "metadata": {},
   "outputs": [],
   "source": [
    "#to convert gender to a cateogroy rather than object\n",
    "df_grades[\"sex\"] = df_grades[\"sex\"].astype(\"category\")\n",
    "sex = df_grades[\"sex\"]\n",
    "course_grade = df_grades['course_grade']"
   ]
  },
  {
   "cell_type": "markdown",
   "metadata": {},
   "source": [
    "Next i will give a visual representation of my categories using a catplot and box plot from the seaborn plotting library\n",
    "links to catplot and box plot "
   ]
  },
  {
   "cell_type": "code",
   "execution_count": 11,
   "metadata": {},
   "outputs": [
    {
     "data": {
      "image/png": "[encoded data removed]",
      "text/plain": [
       "<Figure size 360x360 with 1 Axes>"
      ]
     },
     "metadata": {
      "needs_background": "light"
     },
     "output_type": "display_data"
    }
   ],
   "source": [
    "sns.catplot(x ='sex', y ='course_grade',jitter=True ,data=df_grades);"
   ]
  },
  {
   "cell_type": "code",
   "execution_count": 12,
   "metadata": {},
   "outputs": [
    {
     "data": {
      "image/png": "[encoded data removed]",
      "text/plain": [
       "<Figure size 432x288 with 1 Axes>"
      ]
     },
     "metadata": {
      "needs_background": "light"
     },
     "output_type": "display_data"
    }
   ],
   "source": [
    "sns.boxplot(x = df_grades['course_grade'], y =df_grades['sex']);"
   ]
  },
  {
   "cell_type": "markdown",
   "metadata": {},
   "source": [
    "Ok so we can see from above that there is a bigger spread of results for males with some outliers showing on the box plot. However both plots are showing the mean is in around 73 to 75 so i would imagine the result of my t-Test to show that there no statistical significance in the diference of the mean grade - lets see"
   ]
  },
  {
   "cell_type": "code",
   "execution_count": 17,
   "metadata": {},
   "outputs": [
    {
     "name": "stdout",
     "output_type": "stream",
     "text": [
      "t-value: -1.421028169981253\tp-value: 0.15666292284818942\n",
      "P_scipy: 0.16\n"
     ]
    }
   ],
   "source": [
    "#define my two groups\n",
    "male_group = df_grades.loc[df_grades[\"sex\"] =='Man',\"course_grade\"]\n",
    "female_group = df_grades.loc[df_grades[\"sex\"] =='Woman', \"course_grade\"]\n",
    "#run my t test using ttest_ind from scipy stats\n",
    "t_ss, p_ss = ss.ttest_ind(male_group,female_group)\n",
    "print(f\"t-value: {t_ss}\\tp-value: {p_ss}\")\n",
    "#round to 2 decimal \n",
    "print(f\"P_scipy: {p_ss:0.2f}\")"
   ]
  },
  {
   "cell_type": "markdown",
   "metadata": {},
   "source": [
    "__Null hypothesis__\n",
    "All statistical tests have a null hypothesis. For most tests, the null hypothesis is that there is no relationship between your variables of interest or that there is no difference among groups.\n",
    "\n",
    "_The P Value__\n",
    "\n",
    "https://www.scribbr.com/statistics/p-value/\n",
    "\n",
    "The p-value, or probability value, tells you how likely it is that your data could have occurred under the null hypothesis.\n",
    "The p-value tells you how often you would expect to see a test statistic as extreme or more extreme than the one calculated by your statistical test if the null hypothesis of that test was true. The p-value gets smaller as the test statistic calculated from your data gets further away from the range of test statistics predicted by the null hypothesis.\n",
    "The p-value is a proportion: if your p-value is 0.05, that means that 5% of the time you would see a test statistic at least as extreme as the one you found if the null hypothesis was true.\n"
   ]
  },
  {
   "cell_type": "markdown",
   "metadata": {},
   "source": [
    "![image](https://th.bing.com/th/id/R.470e9336f6c1b6ade719d9dd809a251e?rik=alXMZh6%2f7Zrk%2fg&riu=http%3a%2f%2fdsm1lp.files.wordpress.com%2f2012%2f02%2f2008_03_10_null_hypothesis.jpg&ehk=gmv1erPErrMTRVjyiXJV6IOoN4PJUUSaPo7cBsDBuLw%3d&risl=&pid=ImgRaw&r=0)"
   ]
  },
  {
   "cell_type": "markdown",
   "metadata": {},
   "source": [
    "__Ok so what does our values tell us__\n",
    "\n",
    "In our  comparison of final course grades per gender groups our p-value is .16 or 16% , above our threshold value of 0.05; therefore we can determine that there is NO statistically significant difference final grades between the gender groups male and female. This is an interest post where the opposite was the finding and there as a statistical significance between the gender groups - https://www.southampton.ac.uk/passs/gcse_scores/bivariate_analysis/t_test.page"
   ]
  },
  {
   "cell_type": "markdown",
   "metadata": {},
   "source": [
    "So what if I had 3 groups that needed testing?\n",
    "\n",
    "We learnt from the lectures that using more than 2 groups for t tests is a bad idea (like 3 t tests) - the chance that you will get an error in your analysus becomes unpredictable and will result in artificially low p-values and lets you overestimate the significance of the difference between groups, , using anova testing is then better as we only need to run one test."
   ]
  },
  {
   "cell_type": "markdown",
   "metadata": {},
   "source": [
    "For demo and comparison im going to run a one way ANOVA test which is covered in the next section to see what score we get"
   ]
  },
  {
   "cell_type": "code",
   "execution_count": 19,
   "metadata": {},
   "outputs": [
    {
     "name": "stdout",
     "output_type": "stream",
     "text": [
      "0.16\n"
     ]
    }
   ],
   "source": [
    "F,P = ss.f_oneway(male_group,female_group)\n",
    "print(f\"{P:.2f}\")"
   ]
  },
  {
   "cell_type": "markdown",
   "metadata": {},
   "source": [
    "same p value using the Scipy.stats one way ANOVA test"
   ]
  },
  {
   "cell_type": "markdown",
   "metadata": {},
   "source": [
    "### ANOVA"
   ]
  },
  {
   "cell_type": "markdown",
   "metadata": {},
   "source": [
    "__ANOVA__, which stands for __Analysis of Variance__, is a statistical test used to analyze the difference between the means of more than two groups."
   ]
  },
  {
   "cell_type": "markdown",
   "metadata": {},
   "source": [
    "A one-way ANOVA uses one independent variable, while a two-way ANOVA uses two independent variables."
   ]
  },
  {
   "cell_type": "markdown",
   "metadata": {},
   "source": [
    "- The null hypothesis of ANOVA is that there is no difference among group means. - \n",
    "- The alternate hypothesis is that at least one group differs significantly from the overall mean of the dependent variable."
   ]
  },
  {
   "cell_type": "markdown",
   "metadata": {},
   "source": [
    "## Demonstrations of Anova"
   ]
  },
  {
   "cell_type": "markdown",
   "metadata": {},
   "source": [
    "## Exploring the dataset - work data"
   ]
  },
  {
   "cell_type": "markdown",
   "metadata": {},
   "source": [
    "For my demonstations i am going to use a workdataset that i extracted using our BI tool pentaho. \n",
    "My aim is to check for statistical differences between the amounts borrowed for personal loans up to 8,000 (dependent variable) and my independing varibales. We are looking at introducing a new revovling credit loan with a maximum value of 8,000. The results could be useful from a rollout and marketing viewpoint.\n",
    "- per deomgraphich category (one way anova)\n",
    "- per domographic cateogory and loan category (two way anova)"
   ]
  },
  {
   "cell_type": "markdown",
   "metadata": {},
   "source": [
    "Firstly import my data"
   ]
  },
  {
   "cell_type": "code",
   "execution_count": 24,
   "metadata": {},
   "outputs": [
    {
     "data": {
      "text/html": [
       "<div>\n",
       "<style scoped>\n",
       "    .dataframe tbody tr th:only-of-type {\n",
       "        vertical-align: middle;\n",
       "    }\n",
       "\n",
       "    .dataframe tbody tr th {\n",
       "        vertical-align: top;\n",
       "    }\n",
       "\n",
       "    .dataframe thead th {\n",
       "        text-align: right;\n",
       "    }\n",
       "</style>\n",
       "<table border=\"1\" class=\"dataframe\">\n",
       "  <thead>\n",
       "    <tr style=\"text-align: right;\">\n",
       "      <th></th>\n",
       "      <th>Demographic_Category</th>\n",
       "      <th>Loan_Category</th>\n",
       "      <th>Loan_Amount_Issued</th>\n",
       "    </tr>\n",
       "  </thead>\n",
       "  <tbody>\n",
       "    <tr>\n",
       "      <th>0</th>\n",
       "      <td>YOUNG SINGLE</td>\n",
       "      <td>PERSONAL</td>\n",
       "      <td>250.0</td>\n",
       "    </tr>\n",
       "    <tr>\n",
       "      <th>1</th>\n",
       "      <td>YOUNG SINGLE</td>\n",
       "      <td>PERSONAL</td>\n",
       "      <td>250.0</td>\n",
       "    </tr>\n",
       "    <tr>\n",
       "      <th>2</th>\n",
       "      <td>YOUNG SINGLE</td>\n",
       "      <td>PERSONAL</td>\n",
       "      <td>250.0</td>\n",
       "    </tr>\n",
       "    <tr>\n",
       "      <th>3</th>\n",
       "      <td>YOUNG SINGLE</td>\n",
       "      <td>PERSONAL</td>\n",
       "      <td>250.0</td>\n",
       "    </tr>\n",
       "    <tr>\n",
       "      <th>4</th>\n",
       "      <td>YOUNG SINGLE</td>\n",
       "      <td>PERSONAL</td>\n",
       "      <td>250.0</td>\n",
       "    </tr>\n",
       "    <tr>\n",
       "      <th>...</th>\n",
       "      <td>...</td>\n",
       "      <td>...</td>\n",
       "      <td>...</td>\n",
       "    </tr>\n",
       "    <tr>\n",
       "      <th>2491</th>\n",
       "      <td>OVER 50s</td>\n",
       "      <td>PERSONAL</td>\n",
       "      <td>8000.0</td>\n",
       "    </tr>\n",
       "    <tr>\n",
       "      <th>2492</th>\n",
       "      <td>OVER 65s</td>\n",
       "      <td>PERSONAL</td>\n",
       "      <td>8000.0</td>\n",
       "    </tr>\n",
       "    <tr>\n",
       "      <th>2493</th>\n",
       "      <td>OVER 65s</td>\n",
       "      <td>PERSONAL</td>\n",
       "      <td>8000.0</td>\n",
       "    </tr>\n",
       "    <tr>\n",
       "      <th>2494</th>\n",
       "      <td>OVER 65s</td>\n",
       "      <td>PERSONAL</td>\n",
       "      <td>8000.0</td>\n",
       "    </tr>\n",
       "    <tr>\n",
       "      <th>2495</th>\n",
       "      <td>OVER 65s</td>\n",
       "      <td>PERSONAL</td>\n",
       "      <td>8000.0</td>\n",
       "    </tr>\n",
       "  </tbody>\n",
       "</table>\n",
       "<p>2496 rows × 3 columns</p>\n",
       "</div>"
      ],
      "text/plain": [
       "     Demographic_Category Loan_Category  Loan_Amount_Issued\n",
       "0            YOUNG SINGLE      PERSONAL               250.0\n",
       "1            YOUNG SINGLE      PERSONAL               250.0\n",
       "2            YOUNG SINGLE      PERSONAL               250.0\n",
       "3            YOUNG SINGLE      PERSONAL               250.0\n",
       "4            YOUNG SINGLE      PERSONAL               250.0\n",
       "...                   ...           ...                 ...\n",
       "2491             OVER 50s      PERSONAL              8000.0\n",
       "2492             OVER 65s      PERSONAL              8000.0\n",
       "2493             OVER 65s      PERSONAL              8000.0\n",
       "2494             OVER 65s      PERSONAL              8000.0\n",
       "2495             OVER 65s      PERSONAL              8000.0\n",
       "\n",
       "[2496 rows x 3 columns]"
      ]
     },
     "execution_count": 24,
     "metadata": {},
     "output_type": "execute_result"
    }
   ],
   "source": [
    "#import dataset\n",
    "df = pd.read_csv('datasets/work/work_data.csv')\n",
    "#display daframe\n",
    "df"
   ]
  },
  {
   "cell_type": "markdown",
   "metadata": {},
   "source": [
    "__Tidy Data__\n",
    "This dataset is very clean as it has been manipulated and extracted using a BI tool removing empty values etc - this may not always be the case with a real world dataset"
   ]
  },
  {
   "cell_type": "markdown",
   "metadata": {},
   "source": [
    "Exploring our data further with pandas tools df.head and df.describe - lets see what we have to work with"
   ]
  },
  {
   "cell_type": "code",
   "execution_count": 27,
   "metadata": {},
   "outputs": [
    {
     "data": {
      "text/html": [
       "<div>\n",
       "<style scoped>\n",
       "    .dataframe tbody tr th:only-of-type {\n",
       "        vertical-align: middle;\n",
       "    }\n",
       "\n",
       "    .dataframe tbody tr th {\n",
       "        vertical-align: top;\n",
       "    }\n",
       "\n",
       "    .dataframe thead th {\n",
       "        text-align: right;\n",
       "    }\n",
       "</style>\n",
       "<table border=\"1\" class=\"dataframe\">\n",
       "  <thead>\n",
       "    <tr style=\"text-align: right;\">\n",
       "      <th></th>\n",
       "      <th>Demographic_Category</th>\n",
       "      <th>Loan_Category</th>\n",
       "      <th>Loan_Amount_Issued</th>\n",
       "    </tr>\n",
       "  </thead>\n",
       "  <tbody>\n",
       "    <tr>\n",
       "      <th>0</th>\n",
       "      <td>YOUNG SINGLE</td>\n",
       "      <td>PERSONAL</td>\n",
       "      <td>250.0</td>\n",
       "    </tr>\n",
       "    <tr>\n",
       "      <th>1</th>\n",
       "      <td>YOUNG SINGLE</td>\n",
       "      <td>PERSONAL</td>\n",
       "      <td>250.0</td>\n",
       "    </tr>\n",
       "    <tr>\n",
       "      <th>2</th>\n",
       "      <td>YOUNG SINGLE</td>\n",
       "      <td>PERSONAL</td>\n",
       "      <td>250.0</td>\n",
       "    </tr>\n",
       "    <tr>\n",
       "      <th>3</th>\n",
       "      <td>YOUNG SINGLE</td>\n",
       "      <td>PERSONAL</td>\n",
       "      <td>250.0</td>\n",
       "    </tr>\n",
       "    <tr>\n",
       "      <th>4</th>\n",
       "      <td>YOUNG SINGLE</td>\n",
       "      <td>PERSONAL</td>\n",
       "      <td>250.0</td>\n",
       "    </tr>\n",
       "  </tbody>\n",
       "</table>\n",
       "</div>"
      ],
      "text/plain": [
       "  Demographic_Category Loan_Category  Loan_Amount_Issued\n",
       "0         YOUNG SINGLE      PERSONAL               250.0\n",
       "1         YOUNG SINGLE      PERSONAL               250.0\n",
       "2         YOUNG SINGLE      PERSONAL               250.0\n",
       "3         YOUNG SINGLE      PERSONAL               250.0\n",
       "4         YOUNG SINGLE      PERSONAL               250.0"
      ]
     },
     "execution_count": 27,
     "metadata": {},
     "output_type": "execute_result"
    }
   ],
   "source": [
    "#display on screen first 5 rows\n",
    "df.head()"
   ]
  },
  {
   "cell_type": "code",
   "execution_count": 28,
   "metadata": {},
   "outputs": [
    {
     "data": {
      "text/html": [
       "<div>\n",
       "<style scoped>\n",
       "    .dataframe tbody tr th:only-of-type {\n",
       "        vertical-align: middle;\n",
       "    }\n",
       "\n",
       "    .dataframe tbody tr th {\n",
       "        vertical-align: top;\n",
       "    }\n",
       "\n",
       "    .dataframe thead th {\n",
       "        text-align: right;\n",
       "    }\n",
       "</style>\n",
       "<table border=\"1\" class=\"dataframe\">\n",
       "  <thead>\n",
       "    <tr style=\"text-align: right;\">\n",
       "      <th></th>\n",
       "      <th>Loan_Amount_Issued</th>\n",
       "    </tr>\n",
       "  </thead>\n",
       "  <tbody>\n",
       "    <tr>\n",
       "      <th>count</th>\n",
       "      <td>2496.000000</td>\n",
       "    </tr>\n",
       "    <tr>\n",
       "      <th>mean</th>\n",
       "      <td>2364.489042</td>\n",
       "    </tr>\n",
       "    <tr>\n",
       "      <th>std</th>\n",
       "      <td>2115.866110</td>\n",
       "    </tr>\n",
       "    <tr>\n",
       "      <th>min</th>\n",
       "      <td>250.000000</td>\n",
       "    </tr>\n",
       "    <tr>\n",
       "      <th>25%</th>\n",
       "      <td>600.000000</td>\n",
       "    </tr>\n",
       "    <tr>\n",
       "      <th>50%</th>\n",
       "      <td>1500.000000</td>\n",
       "    </tr>\n",
       "    <tr>\n",
       "      <th>75%</th>\n",
       "      <td>3500.000000</td>\n",
       "    </tr>\n",
       "    <tr>\n",
       "      <th>max</th>\n",
       "      <td>8000.000000</td>\n",
       "    </tr>\n",
       "  </tbody>\n",
       "</table>\n",
       "</div>"
      ],
      "text/plain": [
       "       Loan_Amount_Issued\n",
       "count         2496.000000\n",
       "mean          2364.489042\n",
       "std           2115.866110\n",
       "min            250.000000\n",
       "25%            600.000000\n",
       "50%           1500.000000\n",
       "75%           3500.000000\n",
       "max           8000.000000"
      ]
     },
     "execution_count": 28,
     "metadata": {},
     "output_type": "execute_result"
    }
   ],
   "source": [
    "#show a tabular discription of the dataset\n",
    "df.describe()"
   ]
  },
  {
   "cell_type": "markdown",
   "metadata": {},
   "source": [
    "### Anova Test 1 - One way anova"
   ]
  },
  {
   "cell_type": "markdown",
   "metadata": {},
   "source": [
    "#### Assumptions"
   ]
  },
  {
   "cell_type": "markdown",
   "metadata": {},
   "source": [
    "When we choose to analyse our data using a one-way ANOVA, part of the process involves checking to make sure that the data we want to analyse can actually be analysed using a one-way ANOVA. We need to do this because it is only appropriate to use a one-way ANOVA if our data \"passes\" six assumptions that are required for a one-way ANOVA to give you a valid result.\n",
    "[https://statistics.laerd.com/spss-tutorials/one-way-anova-using-spss-statistics.php]"
   ]
  },
  {
   "cell_type": "markdown",
   "metadata": {},
   "source": [
    "______________"
   ]
  },
  {
   "cell_type": "markdown",
   "metadata": {},
   "source": [
    "***Assumption 1: Dependent variable***\n",
    "\n",
    "Dependent variable should be measured at the interval or ratio level."
   ]
  },
  {
   "cell_type": "code",
   "execution_count": 32,
   "metadata": {},
   "outputs": [
    {
     "data": {
      "text/plain": [
       "0        250.0\n",
       "1        250.0\n",
       "2        250.0\n",
       "3        250.0\n",
       "4        250.0\n",
       "         ...  \n",
       "2491    8000.0\n",
       "2492    8000.0\n",
       "2493    8000.0\n",
       "2494    8000.0\n",
       "2495    8000.0\n",
       "Name: Loan_Amount_Issued, Length: 2496, dtype: float64"
      ]
     },
     "execution_count": 32,
     "metadata": {},
     "output_type": "execute_result"
    }
   ],
   "source": [
    "# Loam Amount Issued is The dependent variable.\n",
    "#df[\"Loan_Amount_Issued\"] = df.Loan_Amount_Issued.astype(float)\n",
    "dependent = df['Loan_Amount_Issued']\n",
    "x = dependent\n",
    "x"
   ]
  },
  {
   "cell_type": "markdown",
   "metadata": {},
   "source": [
    "Yes we can be happy that assumption 1 is satisfied and our data is at/in numerical intervals "
   ]
  },
  {
   "cell_type": "markdown",
   "metadata": {},
   "source": [
    "________________"
   ]
  },
  {
   "cell_type": "markdown",
   "metadata": {},
   "source": [
    "***Assumption 2: Independent variable***\n",
    "\n",
    "Independent variable should consist of two or more categorical, independent groups."
   ]
  },
  {
   "cell_type": "code",
   "execution_count": 33,
   "metadata": {},
   "outputs": [
    {
     "data": {
      "text/html": [
       "<div>\n",
       "<style scoped>\n",
       "    .dataframe tbody tr th:only-of-type {\n",
       "        vertical-align: middle;\n",
       "    }\n",
       "\n",
       "    .dataframe tbody tr th {\n",
       "        vertical-align: top;\n",
       "    }\n",
       "\n",
       "    .dataframe thead th {\n",
       "        text-align: right;\n",
       "    }\n",
       "</style>\n",
       "<table border=\"1\" class=\"dataframe\">\n",
       "  <thead>\n",
       "    <tr style=\"text-align: right;\">\n",
       "      <th></th>\n",
       "      <th>Loan_Category</th>\n",
       "      <th>Loan_Amount_Issued</th>\n",
       "    </tr>\n",
       "    <tr>\n",
       "      <th>Demographic_Category</th>\n",
       "      <th></th>\n",
       "      <th></th>\n",
       "    </tr>\n",
       "  </thead>\n",
       "  <tbody>\n",
       "    <tr>\n",
       "      <th>ADULT SINGLE</th>\n",
       "      <td>255</td>\n",
       "      <td>255</td>\n",
       "    </tr>\n",
       "    <tr>\n",
       "      <th>OVER 50s</th>\n",
       "      <td>586</td>\n",
       "      <td>586</td>\n",
       "    </tr>\n",
       "    <tr>\n",
       "      <th>OVER 65s</th>\n",
       "      <td>374</td>\n",
       "      <td>374</td>\n",
       "    </tr>\n",
       "    <tr>\n",
       "      <th>SINGLE PARENT</th>\n",
       "      <td>434</td>\n",
       "      <td>434</td>\n",
       "    </tr>\n",
       "    <tr>\n",
       "      <th>YOUNG COUPLE</th>\n",
       "      <td>75</td>\n",
       "      <td>75</td>\n",
       "    </tr>\n",
       "    <tr>\n",
       "      <th>YOUNG FAMILY</th>\n",
       "      <td>293</td>\n",
       "      <td>293</td>\n",
       "    </tr>\n",
       "    <tr>\n",
       "      <th>YOUNG SINGLE</th>\n",
       "      <td>479</td>\n",
       "      <td>479</td>\n",
       "    </tr>\n",
       "  </tbody>\n",
       "</table>\n",
       "</div>"
      ],
      "text/plain": [
       "                      Loan_Category  Loan_Amount_Issued\n",
       "Demographic_Category                                   \n",
       "ADULT SINGLE                    255                 255\n",
       "OVER 50s                        586                 586\n",
       "OVER 65s                        374                 374\n",
       "SINGLE PARENT                   434                 434\n",
       "YOUNG COUPLE                     75                  75\n",
       "YOUNG FAMILY                    293                 293\n",
       "YOUNG SINGLE                    479                 479"
      ]
     },
     "execution_count": 33,
     "metadata": {},
     "output_type": "execute_result"
    }
   ],
   "source": [
    "# Independent variable.\n",
    "independent = df['Demographic_Category']\n",
    "independent\n",
    "#use grouby and get count of each gender in dataset\n",
    "df.groupby(by = \"Demographic_Category\").count()"
   ]
  },
  {
   "cell_type": "markdown",
   "metadata": {},
   "source": [
    "So for my first test one way anova we are going to use the demographic category as my dependent variable which has seven independent groups as required "
   ]
  },
  {
   "cell_type": "markdown",
   "metadata": {},
   "source": [
    "_______________________________"
   ]
  },
  {
   "cell_type": "markdown",
   "metadata": {},
   "source": [
    "**Assumption 3:**\n",
    "\n",
    "You should have independence of observations, which means that there is no relationship between the observations in each group or between the groups themselves"
   ]
  },
  {
   "cell_type": "markdown",
   "metadata": {},
   "source": [
    "Check - age demographic has to fit into one of the cateogries - you cant have two ages"
   ]
  },
  {
   "cell_type": "markdown",
   "metadata": {},
   "source": [
    "______________"
   ]
  },
  {
   "cell_type": "markdown",
   "metadata": {},
   "source": [
    "***Assumption 4: Outliers***\n",
    "\n",
    "There should be no significant outliers."
   ]
  },
  {
   "cell_type": "code",
   "execution_count": 34,
   "metadata": {},
   "outputs": [
    {
     "data": {
      "text/plain": [
       "<matplotlib.axes._subplots.AxesSubplot at 0x29607efd0d0>"
      ]
     },
     "execution_count": 34,
     "metadata": {},
     "output_type": "execute_result"
    },
    {
     "data": {
      "image/png": "[encoded data removed]",
      "text/plain": [
       "<Figure size 432x288 with 1 Axes>"
      ]
     },
     "metadata": {
      "needs_background": "light"
     },
     "output_type": "display_data"
    }
   ],
   "source": [
    "# https://seaborn.pydata.org/generated/seaborn.boxplot.html\n",
    "sns.boxplot(x=dependent, y=independent)"
   ]
  },
  {
   "cell_type": "markdown",
   "metadata": {},
   "source": [
    "There is a few \"stray\" values but im happy the majority of the values/counts are withing the required ranges and will proceed."
   ]
  },
  {
   "cell_type": "markdown",
   "metadata": {},
   "source": [
    "_______________"
   ]
  },
  {
   "cell_type": "markdown",
   "metadata": {},
   "source": [
    "***Assumption 5: Normality***\n",
    "\n",
    "Dependent variable should be approximately normally distributed for each category of the independent variable."
   ]
  },
  {
   "cell_type": "code",
   "execution_count": 35,
   "metadata": {},
   "outputs": [
    {
     "data": {
      "text/plain": [
       "<seaborn.axisgrid.FacetGrid at 0x29608007820>"
      ]
     },
     "execution_count": 35,
     "metadata": {},
     "output_type": "execute_result"
    },
    {
     "data": {
      "image/png": "[encoded data removed]",
      "text/plain": [
       "<Figure size 485.5x360 with 1 Axes>"
      ]
     },
     "metadata": {
      "needs_background": "light"
     },
     "output_type": "display_data"
    }
   ],
   "source": [
    "# KDEs of the three categories.\n",
    "\n",
    "# KDEs of the three categories.\n",
    "sns.displot(x=dependent, hue=independent, kind=\"kde\")"
   ]
  },
  {
   "cell_type": "code",
   "execution_count": null,
   "metadata": {},
   "outputs": [],
   "source": []
  },
  {
   "cell_type": "markdown",
   "metadata": {},
   "source": [
    "_______________"
   ]
  },
  {
   "cell_type": "markdown",
   "metadata": {},
   "source": [
    "***Assumption 6: Homogeneity of Variances***\n",
    "\n",
    "There needs to be homogeneity of variances"
   ]
  },
  {
   "cell_type": "code",
   "execution_count": 36,
   "metadata": {},
   "outputs": [
    {
     "data": {
      "text/plain": [
       "LeveneResult(statistic=12.544527329160967, pvalue=5.578715322188425e-14)"
      ]
     },
     "execution_count": 36,
     "metadata": {},
     "output_type": "execute_result"
    }
   ],
   "source": [
    "# Test for equal variances.\n",
    "ss.levene(\n",
    "\n",
    "    dependent[independent == 'YOUNG SINGLE'],\n",
    "    dependent[independent == 'YOUNG FAMILY'],\n",
    "    dependent[independent == 'YOUNG COUPLE'],\n",
    "    dependent[independent == 'ADULT SINGLE'],\n",
    "    dependent[independent == 'SINGLE PARENT'],\n",
    "    dependent[independent == 'OVER 50s'],\n",
    "    dependent[independent == 'OVER 65s'],\n",
    ")"
   ]
  },
  {
   "cell_type": "markdown",
   "metadata": {},
   "source": [
    "## Performing a One Way Anova on my sample work dataset"
   ]
  },
  {
   "cell_type": "code",
   "execution_count": null,
   "metadata": {},
   "outputs": [],
   "source": [
    "# ANOVA.\n",
    "ss.f_oneway(\n",
    "    dependent[independent == 'YOUNG COUPLE'],\n",
    "    dependent[independent == 'YOUNG FAMILY'],\n",
    "    )"
   ]
  },
  {
   "cell_type": "code",
   "execution_count": null,
   "metadata": {},
   "outputs": [],
   "source": [
    "# ANOVA.\n",
    "ss.f_oneway(\n",
    "    dependent[independent == 'YOUNG COUPLE'],\n",
    "    dependent[independent == 'SINGLE PARENT'],\n",
    "    )"
   ]
  },
  {
   "cell_type": "code",
   "execution_count": null,
   "metadata": {},
   "outputs": [],
   "source": [
    "# ANOVA.\n",
    "ss.f_oneway(\n",
    "    dependent[independent == 'YOUNG SINGLE'],\n",
    "    dependent[independent == 'ADULT SINGLE'],\n",
    "    )"
   ]
  },
  {
   "cell_type": "code",
   "execution_count": null,
   "metadata": {},
   "outputs": [],
   "source": [
    "# ANOVA.\n",
    "ss.f_oneway(\n",
    "    dependent[independent == 'OVER 50s'],\n",
    "    dependent[independent == 'OVER 65s'],\n",
    "    )"
   ]
  },
  {
   "cell_type": "code",
   "execution_count": null,
   "metadata": {},
   "outputs": [],
   "source": []
  },
  {
   "cell_type": "code",
   "execution_count": null,
   "metadata": {},
   "outputs": [],
   "source": [
    "# ANOVA.\n",
    "ss.f_oneway(\n",
    "    dependent[independent == 'OVER 50s'],\n",
    "    dependent[independent == 'ADULT SINGLE'],\n",
    "    )"
   ]
  },
  {
   "cell_type": "markdown",
   "metadata": {},
   "source": [
    "We can see that the significance value is 0.021 (i.e., p = .021), which is below 0.05. and, therefore, there is a statistically significant difference in the mean length of time to complete the spreadsheet problem between the different courses takE"
   ]
  },
  {
   "cell_type": "markdown",
   "metadata": {},
   "source": [
    "## WELCH ANOVA"
   ]
  },
  {
   "cell_type": "code",
   "execution_count": null,
   "metadata": {},
   "outputs": [],
   "source": []
  },
  {
   "cell_type": "markdown",
   "metadata": {},
   "source": [
    "### Exploring the dataset - exam grades"
   ]
  },
  {
   "cell_type": "code",
   "execution_count": null,
   "metadata": {},
   "outputs": [],
   "source": []
  },
  {
   "cell_type": "code",
   "execution_count": null,
   "metadata": {},
   "outputs": [],
   "source": [
    "#import dataset\n",
    "#df_grades= pd.read_csv('datasets/grades/exam_grades.csv')\n",
    "#display daframe\n",
    "df_grades"
   ]
  },
  {
   "cell_type": "code",
   "execution_count": null,
   "metadata": {},
   "outputs": [],
   "source": [
    "#display on screen first 5 rows\n",
    "df_grades.head()"
   ]
  },
  {
   "cell_type": "code",
   "execution_count": null,
   "metadata": {},
   "outputs": [],
   "source": [
    "#show a tabular discription of the dataset\n",
    "df_grades.describe()"
   ]
  },
  {
   "cell_type": "markdown",
   "metadata": {},
   "source": [
    "### **Assumptions**"
   ]
  },
  {
   "cell_type": "markdown",
   "metadata": {},
   "source": [
    "When we choose to analyse our data using a one-way ANOVA, part of the process involves checking to make sure that the data we want to analyse can actually be analysed using a one-way ANOVA. We need to do this because it is only appropriate to use a one-way ANOVA if our data \"passes\" six assumptions that are required for a one-way ANOVA to give you a valid result. [https://statistics.laerd.com/spss-tutorials/one-way-anova-using-spss-statistics.php]"
   ]
  },
  {
   "cell_type": "markdown",
   "metadata": {},
   "source": [
    "***Assumption 1: Dependent variable***\n",
    "\n",
    "Dependent variable should be measured at the interval or ratio level."
   ]
  },
  {
   "cell_type": "code",
   "execution_count": null,
   "metadata": {},
   "outputs": [],
   "source": [
    "# Course grade is The dependent variable.\n",
    "dependent2 = df_grades['course_grade']\n",
    "x = dependent2\n",
    "x"
   ]
  },
  {
   "cell_type": "markdown",
   "metadata": {},
   "source": [
    "***Assumption 2: Independent variable***\n",
    "\n",
    "Independent variable should consist of two or more categorical, independent groups."
   ]
  },
  {
   "cell_type": "markdown",
   "metadata": {},
   "source": [
    "Check - Independent variable will be gender - male or female"
   ]
  },
  {
   "cell_type": "code",
   "execution_count": null,
   "metadata": {},
   "outputs": [],
   "source": [
    "# Independent variable.\n",
    "independent2 = df_grades['sex']\n",
    "independent2\n",
    "#use grouby and get count of each gender in dataset\n",
    "df_grades.groupby(by = \"sex\").count()"
   ]
  },
  {
   "cell_type": "markdown",
   "metadata": {},
   "source": [
    "**Assumption 3:**\n",
    "\n",
    "You should have independence of observations, which means that there is no relationship between the observations in each group or between the groups themselves"
   ]
  },
  {
   "cell_type": "markdown",
   "metadata": {},
   "source": [
    "Check - gender has to be either male or female"
   ]
  },
  {
   "cell_type": "markdown",
   "metadata": {},
   "source": [
    "***Assumption 4: Outliers***\n",
    "\n",
    "There should be no significant outliers."
   ]
  },
  {
   "cell_type": "code",
   "execution_count": null,
   "metadata": {},
   "outputs": [],
   "source": [
    "# https://seaborn.pydata.org/generated/seaborn.boxplot.html\n",
    "sns.boxplot(x=dependent2, y=independent2)"
   ]
  },
  {
   "cell_type": "markdown",
   "metadata": {},
   "source": [
    "Check - We can note from above there is some outliers for male but should not be significant enough to affect our anova, this can be seen with the outliers shows as diamond symbols -  further testing to see ..."
   ]
  },
  {
   "cell_type": "markdown",
   "metadata": {},
   "source": [
    "***Assumption 5: Normality***\n",
    "\n",
    "Dependent variable should be approximately normally distributed for each category of the independent variable."
   ]
  },
  {
   "cell_type": "code",
   "execution_count": null,
   "metadata": {},
   "outputs": [],
   "source": [
    "# KDEs of the three categories.\n",
    "\n",
    "# KDEs of the three categories.\n",
    "sns.displot(x=dependent2, hue=independent2, kind=\"kde\")"
   ]
  },
  {
   "cell_type": "markdown",
   "metadata": {},
   "source": [
    "We can see from plot above both the dependent variable \"grade\" for each gender can be classed as normally distributed"
   ]
  },
  {
   "cell_type": "markdown",
   "metadata": {},
   "source": [
    "***Assumption 6: Homogeneity of Variances***\n",
    "\n",
    "There needs to be homogeneity of variances"
   ]
  },
  {
   "cell_type": "code",
   "execution_count": null,
   "metadata": {},
   "outputs": [],
   "source": [
    "# Test for equal variances.\n",
    "ss.levene(\n",
    "    dependent2[independent2 == 'Man'],\n",
    "    dependent2[independent2 == 'Woman'],\n",
    "    )"
   ]
  },
  {
   "cell_type": "markdown",
   "metadata": {},
   "source": [
    "BR NOTE NEED TO BEEF UP AND ADD MORE EXPLANATIONS ETC"
   ]
  },
  {
   "cell_type": "markdown",
   "metadata": {},
   "source": [
    "### One-way ANOVA"
   ]
  },
  {
   "cell_type": "code",
   "execution_count": null,
   "metadata": {},
   "outputs": [],
   "source": [
    "# ANOVA.\n",
    "ss.f_oneway(\n",
    "    dependent2[independent2 == 'Man'],\n",
    "    dependent2[independent2 == 'Woman'],\n",
    "    )"
   ]
  },
  {
   "cell_type": "markdown",
   "metadata": {},
   "source": [
    "BR NOTE - NEED TO PROVIDE MORE INFO AND WHAT THE RESULT MEANS ETC "
   ]
  },
  {
   "cell_type": "markdown",
   "metadata": {},
   "source": [
    "WELCH ANOVOA ETC -----\n"
   ]
  },
  {
   "cell_type": "markdown",
   "metadata": {},
   "source": [
    "### Post Hoct Tests"
   ]
  },
  {
   "cell_type": "markdown",
   "metadata": {},
   "source": [
    "### Conclusion and Findings"
   ]
  },
  {
   "cell_type": "markdown",
   "metadata": {},
   "source": [
    "### References and Research to go here - (BR note -  more research currently in the word document )"
   ]
  },
  {
   "cell_type": "markdown",
   "metadata": {},
   "source": [
    "#### Scipy and Scipy.stats\n",
    "\n",
    "[1] Offical SciPy website - https://scipy.org/\n",
    "\n",
    "[2] Tutroialspoint SciPy quick guide: https://www.tutorialspoint.com/scipy/scipy_quick_guide.htm\n",
    "\n",
    "[3] Offical SciPy stats refernce website: https://docs.scipy.org/doc/scipy/reference/stats.html\n",
    "\n",
    "\n",
    "#### Anova Testing - T Tests \n",
    "\n",
    "Four Ways to Conduct One-Way ANOVA with Python - Erik Marsja - [https://www.marsja.se/four-ways-to-conduct-one-way-anovas-using-python/]\n",
    "\n",
    "Exploratory Data Analysis in Python - GeeksforGeeks - [https://www.geeksforgeeks.org/exploratory-data-analysis-in-python/]\n",
    "\n",
    "https://www.analyticsvidhya.com/blog/2020/06/introduction-anova-statistics-data-science-covid-python/\n",
    "\n",
    "ANOVA Test: Definition, Types, Examples, SPSS - Statistics How To [https://www.statisticshowto.com/probability-and-statistics/hypothesis-testing/anova/]\n",
    "\n",
    "https://www.southampton.ac.uk/passs/gcse_scores/bivariate_analysis/t_test.page\n",
    "\n",
    "\n",
    "####  Other \n",
    "\n",
    "Pandas Group By: https://pandas.pydata.org/docs/reference/api/pandas.DataFrame.groupby.html\n",
    "\n",
    "Boxplot - \n",
    "\n",
    "Cat Plot - \n",
    "\n",
    "\n",
    "#### Basic Syntax Markdown - https://www.markdownguide.org/basic-syntax/\n",
    "\n"
   ]
  },
  {
   "cell_type": "markdown",
   "metadata": {},
   "source": [
    "# END"
   ]
  },
  {
   "cell_type": "code",
   "execution_count": null,
   "metadata": {},
   "outputs": [],
   "source": []
  }
 ],
 "metadata": {
  "kernelspec": {
   "display_name": "Python 3",
   "language": "python",
   "name": "python3"
  },
  "language_info": {
   "codemirror_mode": {
    "name": "ipython",
    "version": 3
   },
   "file_extension": ".py",
   "mimetype": "text/x-python",
   "name": "python",
   "nbconvert_exporter": "python",
   "pygments_lexer": "ipython3",
   "version": "3.8.3"
  }
 },
 "nbformat": 4,
 "nbformat_minor": 4
}

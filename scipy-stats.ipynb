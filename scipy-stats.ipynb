{
 "cells": [
  {
   "cell_type": "markdown",
   "metadata": {},
   "source": [
    "## scipy-stats"
   ]
  },
  {
   "cell_type": "markdown",
   "metadata": {},
   "source": [
    "## Overview of Scikit Learn"
   ]
  },
  {
   "cell_type": "markdown",
   "metadata": {},
   "source": []
  },
  {
   "cell_type": "markdown",
   "metadata": {},
   "source": [
    "\n",
    "\n",
    "add logo \"\" STORE IN IMAGES FOLDER TO BE TIDY"
   ]
  },
  {
   "cell_type": "markdown",
   "metadata": {},
   "source": [
    "### A clear and concise overview of SciPy and SciPy.stats\n",
    "\n",
    "### Firstly what is Sci Py\n",
    "\n",
    "SciPy is an open source scientific library for Python which gives us the ability to perform Mathematical, Scientific and Engineering Computations. (((((SciPy also provides algorithms for optimization, integration, interpolation, eigenvalue problems, algebraic equations, differential equations, statistics and many other classes of problems...)))\n",
    "\n",
    "The SciPy library is built to work with NumPy arrays and provides use with many user-friendly and efficient numerical practices such as routines for numerical integration and optimization. NumPy and SciPy are easy to use, but powerful enough to be used by some of the world's leading scientists and engineers.!!! \n",
    "\n",
    "#### What is SciPy.stats ?\n",
    "\n",
    "All of the statistics functions of the SciPy library are located in the sub-package named scipy.stats. used for statistical analysis\n",
    "\n",
    "#### Uses of SciPy.stats\n",
    "\n",
    "From my research I found out that the stats module scipy.stats is a very important feature of SciPy. \n",
    "\n",
    "It is useful for obtaining probabilistic distributions. SciPy Stats can generate discrete or continuous random numbers. It also consists of many other functions to generate descriptive statistical values. We can deal with random, continuous, and random variables. It also has functions for working with various types of distributions. It offers us the ability to perform a wide range of statistic analysis."
   ]
  },
  {
   "cell_type": "markdown",
   "metadata": {},
   "source": [
    "## Overview of ANOVA here .... might include description of T TESTS also ...WIP"
   ]
  },
  {
   "cell_type": "markdown",
   "metadata": {},
   "source": [
    "## Demonstrations "
   ]
  },
  {
   "cell_type": "markdown",
   "metadata": {},
   "source": [
    "## selected dataset for testing \n",
    "\n",
    "BR NOTE\n",
    "My ideas is to see does the grade a student receives vary based opn their gender?\n",
    "Also maybe look at the diet dataset as another example might be btter dataset?"
   ]
  },
  {
   "cell_type": "markdown",
   "metadata": {},
   "source": [
    "## imports"
   ]
  },
  {
   "cell_type": "code",
   "execution_count": 3,
   "metadata": {},
   "outputs": [],
   "source": [
    "# Numerical arrays.\n",
    "import numpy as np\n",
    "# Plotting.\n",
    "import seaborn as sns\n",
    "# Stats.\n",
    "import scipy.stats as ss\n",
    "#pandas \n",
    "import pandas as pd"
   ]
  },
  {
   "cell_type": "markdown",
   "metadata": {},
   "source": [
    "### Exploring the dataset"
   ]
  },
  {
   "cell_type": "code",
   "execution_count": 4,
   "metadata": {},
   "outputs": [
    {
     "data": {
      "text/html": [
       "<div>\n",
       "<style scoped>\n",
       "    .dataframe tbody tr th:only-of-type {\n",
       "        vertical-align: middle;\n",
       "    }\n",
       "\n",
       "    .dataframe tbody tr th {\n",
       "        vertical-align: top;\n",
       "    }\n",
       "\n",
       "    .dataframe thead th {\n",
       "        text-align: right;\n",
       "    }\n",
       "</style>\n",
       "<table border=\"1\" class=\"dataframe\">\n",
       "  <thead>\n",
       "    <tr style=\"text-align: right;\">\n",
       "      <th></th>\n",
       "      <th>Unnamed: 0</th>\n",
       "      <th>sex</th>\n",
       "      <th>exam1</th>\n",
       "      <th>exam2</th>\n",
       "      <th>exam3</th>\n",
       "      <th>course_grade</th>\n",
       "    </tr>\n",
       "  </thead>\n",
       "  <tbody>\n",
       "    <tr>\n",
       "      <th>0</th>\n",
       "      <td>1</td>\n",
       "      <td>Man</td>\n",
       "      <td>84.5000</td>\n",
       "      <td>69.5</td>\n",
       "      <td>86.5000</td>\n",
       "      <td>76.2564</td>\n",
       "    </tr>\n",
       "    <tr>\n",
       "      <th>1</th>\n",
       "      <td>2</td>\n",
       "      <td>Man</td>\n",
       "      <td>80.0000</td>\n",
       "      <td>74.0</td>\n",
       "      <td>67.0000</td>\n",
       "      <td>75.3882</td>\n",
       "    </tr>\n",
       "    <tr>\n",
       "      <th>2</th>\n",
       "      <td>3</td>\n",
       "      <td>Man</td>\n",
       "      <td>56.0000</td>\n",
       "      <td>70.0</td>\n",
       "      <td>71.5000</td>\n",
       "      <td>67.0564</td>\n",
       "    </tr>\n",
       "    <tr>\n",
       "      <th>3</th>\n",
       "      <td>4</td>\n",
       "      <td>Man</td>\n",
       "      <td>64.0000</td>\n",
       "      <td>61.0</td>\n",
       "      <td>67.5000</td>\n",
       "      <td>63.4538</td>\n",
       "    </tr>\n",
       "    <tr>\n",
       "      <th>4</th>\n",
       "      <td>5</td>\n",
       "      <td>Man</td>\n",
       "      <td>90.5000</td>\n",
       "      <td>72.5</td>\n",
       "      <td>75.0000</td>\n",
       "      <td>72.3949</td>\n",
       "    </tr>\n",
       "    <tr>\n",
       "      <th>...</th>\n",
       "      <td>...</td>\n",
       "      <td>...</td>\n",
       "      <td>...</td>\n",
       "      <td>...</td>\n",
       "      <td>...</td>\n",
       "      <td>...</td>\n",
       "    </tr>\n",
       "    <tr>\n",
       "      <th>228</th>\n",
       "      <td>229</td>\n",
       "      <td>Man</td>\n",
       "      <td>98.2143</td>\n",
       "      <td>89.1</td>\n",
       "      <td>71.1111</td>\n",
       "      <td>85.5208</td>\n",
       "    </tr>\n",
       "    <tr>\n",
       "      <th>229</th>\n",
       "      <td>230</td>\n",
       "      <td>Woman</td>\n",
       "      <td>95.0000</td>\n",
       "      <td>86.0</td>\n",
       "      <td>78.3333</td>\n",
       "      <td>83.6959</td>\n",
       "    </tr>\n",
       "    <tr>\n",
       "      <th>230</th>\n",
       "      <td>231</td>\n",
       "      <td>Man</td>\n",
       "      <td>97.1429</td>\n",
       "      <td>53.5</td>\n",
       "      <td>67.2222</td>\n",
       "      <td>72.1189</td>\n",
       "    </tr>\n",
       "    <tr>\n",
       "      <th>231</th>\n",
       "      <td>232</td>\n",
       "      <td>Man</td>\n",
       "      <td>85.0000</td>\n",
       "      <td>63.0</td>\n",
       "      <td>75.0000</td>\n",
       "      <td>67.1996</td>\n",
       "    </tr>\n",
       "    <tr>\n",
       "      <th>232</th>\n",
       "      <td>233</td>\n",
       "      <td>Man</td>\n",
       "      <td>72.8571</td>\n",
       "      <td>48.5</td>\n",
       "      <td>90.5556</td>\n",
       "      <td>66.4035</td>\n",
       "    </tr>\n",
       "  </tbody>\n",
       "</table>\n",
       "<p>233 rows × 6 columns</p>\n",
       "</div>"
      ],
      "text/plain": [
       "     Unnamed: 0    sex    exam1  exam2    exam3  course_grade\n",
       "0             1    Man  84.5000   69.5  86.5000       76.2564\n",
       "1             2    Man  80.0000   74.0  67.0000       75.3882\n",
       "2             3    Man  56.0000   70.0  71.5000       67.0564\n",
       "3             4    Man  64.0000   61.0  67.5000       63.4538\n",
       "4             5    Man  90.5000   72.5  75.0000       72.3949\n",
       "..          ...    ...      ...    ...      ...           ...\n",
       "228         229    Man  98.2143   89.1  71.1111       85.5208\n",
       "229         230  Woman  95.0000   86.0  78.3333       83.6959\n",
       "230         231    Man  97.1429   53.5  67.2222       72.1189\n",
       "231         232    Man  85.0000   63.0  75.0000       67.1996\n",
       "232         233    Man  72.8571   48.5  90.5556       66.4035\n",
       "\n",
       "[233 rows x 6 columns]"
      ]
     },
     "execution_count": 4,
     "metadata": {},
     "output_type": "execute_result"
    }
   ],
   "source": [
    "#import dataset\n",
    "df = pd.read_csv('datasets/grades/exam_grades.csv')\n",
    "#display daframe\n",
    "df"
   ]
  },
  {
   "cell_type": "code",
   "execution_count": 5,
   "metadata": {},
   "outputs": [
    {
     "data": {
      "text/html": [
       "<div>\n",
       "<style scoped>\n",
       "    .dataframe tbody tr th:only-of-type {\n",
       "        vertical-align: middle;\n",
       "    }\n",
       "\n",
       "    .dataframe tbody tr th {\n",
       "        vertical-align: top;\n",
       "    }\n",
       "\n",
       "    .dataframe thead th {\n",
       "        text-align: right;\n",
       "    }\n",
       "</style>\n",
       "<table border=\"1\" class=\"dataframe\">\n",
       "  <thead>\n",
       "    <tr style=\"text-align: right;\">\n",
       "      <th></th>\n",
       "      <th>Unnamed: 0</th>\n",
       "      <th>sex</th>\n",
       "      <th>exam1</th>\n",
       "      <th>exam2</th>\n",
       "      <th>exam3</th>\n",
       "      <th>course_grade</th>\n",
       "    </tr>\n",
       "  </thead>\n",
       "  <tbody>\n",
       "    <tr>\n",
       "      <th>0</th>\n",
       "      <td>1</td>\n",
       "      <td>Man</td>\n",
       "      <td>84.5</td>\n",
       "      <td>69.5</td>\n",
       "      <td>86.5</td>\n",
       "      <td>76.2564</td>\n",
       "    </tr>\n",
       "    <tr>\n",
       "      <th>1</th>\n",
       "      <td>2</td>\n",
       "      <td>Man</td>\n",
       "      <td>80.0</td>\n",
       "      <td>74.0</td>\n",
       "      <td>67.0</td>\n",
       "      <td>75.3882</td>\n",
       "    </tr>\n",
       "    <tr>\n",
       "      <th>2</th>\n",
       "      <td>3</td>\n",
       "      <td>Man</td>\n",
       "      <td>56.0</td>\n",
       "      <td>70.0</td>\n",
       "      <td>71.5</td>\n",
       "      <td>67.0564</td>\n",
       "    </tr>\n",
       "    <tr>\n",
       "      <th>3</th>\n",
       "      <td>4</td>\n",
       "      <td>Man</td>\n",
       "      <td>64.0</td>\n",
       "      <td>61.0</td>\n",
       "      <td>67.5</td>\n",
       "      <td>63.4538</td>\n",
       "    </tr>\n",
       "    <tr>\n",
       "      <th>4</th>\n",
       "      <td>5</td>\n",
       "      <td>Man</td>\n",
       "      <td>90.5</td>\n",
       "      <td>72.5</td>\n",
       "      <td>75.0</td>\n",
       "      <td>72.3949</td>\n",
       "    </tr>\n",
       "  </tbody>\n",
       "</table>\n",
       "</div>"
      ],
      "text/plain": [
       "   Unnamed: 0  sex  exam1  exam2  exam3  course_grade\n",
       "0           1  Man   84.5   69.5   86.5       76.2564\n",
       "1           2  Man   80.0   74.0   67.0       75.3882\n",
       "2           3  Man   56.0   70.0   71.5       67.0564\n",
       "3           4  Man   64.0   61.0   67.5       63.4538\n",
       "4           5  Man   90.5   72.5   75.0       72.3949"
      ]
     },
     "execution_count": 5,
     "metadata": {},
     "output_type": "execute_result"
    }
   ],
   "source": [
    "#display on screen first 5 rows\n",
    "df.head()"
   ]
  },
  {
   "cell_type": "code",
   "execution_count": 6,
   "metadata": {},
   "outputs": [
    {
     "data": {
      "text/html": [
       "<div>\n",
       "<style scoped>\n",
       "    .dataframe tbody tr th:only-of-type {\n",
       "        vertical-align: middle;\n",
       "    }\n",
       "\n",
       "    .dataframe tbody tr th {\n",
       "        vertical-align: top;\n",
       "    }\n",
       "\n",
       "    .dataframe thead th {\n",
       "        text-align: right;\n",
       "    }\n",
       "</style>\n",
       "<table border=\"1\" class=\"dataframe\">\n",
       "  <thead>\n",
       "    <tr style=\"text-align: right;\">\n",
       "      <th></th>\n",
       "      <th>Unnamed: 0</th>\n",
       "      <th>exam1</th>\n",
       "      <th>exam2</th>\n",
       "      <th>exam3</th>\n",
       "      <th>course_grade</th>\n",
       "    </tr>\n",
       "  </thead>\n",
       "  <tbody>\n",
       "    <tr>\n",
       "      <th>count</th>\n",
       "      <td>233.000000</td>\n",
       "      <td>232.000000</td>\n",
       "      <td>233.000000</td>\n",
       "      <td>233.000000</td>\n",
       "      <td>233.000000</td>\n",
       "    </tr>\n",
       "    <tr>\n",
       "      <th>mean</th>\n",
       "      <td>117.000000</td>\n",
       "      <td>80.766185</td>\n",
       "      <td>72.605579</td>\n",
       "      <td>75.479589</td>\n",
       "      <td>72.238831</td>\n",
       "    </tr>\n",
       "    <tr>\n",
       "      <th>std</th>\n",
       "      <td>67.405489</td>\n",
       "      <td>11.067860</td>\n",
       "      <td>13.777468</td>\n",
       "      <td>14.706791</td>\n",
       "      <td>9.807053</td>\n",
       "    </tr>\n",
       "    <tr>\n",
       "      <th>min</th>\n",
       "      <td>1.000000</td>\n",
       "      <td>46.500000</td>\n",
       "      <td>38.000000</td>\n",
       "      <td>28.000000</td>\n",
       "      <td>43.273300</td>\n",
       "    </tr>\n",
       "    <tr>\n",
       "      <th>25%</th>\n",
       "      <td>59.000000</td>\n",
       "      <td>73.500000</td>\n",
       "      <td>63.000000</td>\n",
       "      <td>67.000000</td>\n",
       "      <td>66.695800</td>\n",
       "    </tr>\n",
       "    <tr>\n",
       "      <th>50%</th>\n",
       "      <td>117.000000</td>\n",
       "      <td>82.000000</td>\n",
       "      <td>74.000000</td>\n",
       "      <td>78.000000</td>\n",
       "      <td>72.526700</td>\n",
       "    </tr>\n",
       "    <tr>\n",
       "      <th>75%</th>\n",
       "      <td>175.000000</td>\n",
       "      <td>89.625000</td>\n",
       "      <td>83.000000</td>\n",
       "      <td>86.000000</td>\n",
       "      <td>78.931000</td>\n",
       "    </tr>\n",
       "    <tr>\n",
       "      <th>max</th>\n",
       "      <td>233.000000</td>\n",
       "      <td>99.300000</td>\n",
       "      <td>99.500000</td>\n",
       "      <td>98.888900</td>\n",
       "      <td>97.566700</td>\n",
       "    </tr>\n",
       "  </tbody>\n",
       "</table>\n",
       "</div>"
      ],
      "text/plain": [
       "       Unnamed: 0       exam1       exam2       exam3  course_grade\n",
       "count  233.000000  232.000000  233.000000  233.000000    233.000000\n",
       "mean   117.000000   80.766185   72.605579   75.479589     72.238831\n",
       "std     67.405489   11.067860   13.777468   14.706791      9.807053\n",
       "min      1.000000   46.500000   38.000000   28.000000     43.273300\n",
       "25%     59.000000   73.500000   63.000000   67.000000     66.695800\n",
       "50%    117.000000   82.000000   74.000000   78.000000     72.526700\n",
       "75%    175.000000   89.625000   83.000000   86.000000     78.931000\n",
       "max    233.000000   99.300000   99.500000   98.888900     97.566700"
      ]
     },
     "execution_count": 6,
     "metadata": {},
     "output_type": "execute_result"
    }
   ],
   "source": [
    "#show a tabular discription of the dataset\n",
    "df.describe()"
   ]
  },
  {
   "cell_type": "markdown",
   "metadata": {},
   "source": [
    "### Assumptions "
   ]
  },
  {
   "cell_type": "markdown",
   "metadata": {},
   "source": [
    "When we choose to analyse our data using a one-way ANOVA, part of the process involves checking to make sure that the data we want to analyse can actually be analysed using a one-way ANOVA. We need to do this because it is only appropriate to use a one-way ANOVA if our data \"passes\" six assumptions that are required for a one-way ANOVA to give you a valid result. [https://statistics.laerd.com/spss-tutorials/one-way-anova-using-spss-statistics.php]"
   ]
  },
  {
   "cell_type": "markdown",
   "metadata": {},
   "source": [
    "**Assumption 1: Dependent variable**\n",
    "\n",
    "Dependent variable should be measured at the interval or ratio level."
   ]
  },
  {
   "cell_type": "code",
   "execution_count": 15,
   "metadata": {},
   "outputs": [
    {
     "data": {
      "text/plain": [
       "0      76.2564\n",
       "1      75.3882\n",
       "2      67.0564\n",
       "3      63.4538\n",
       "4      72.3949\n",
       "        ...   \n",
       "228    85.5208\n",
       "229    83.6959\n",
       "230    72.1189\n",
       "231    67.1996\n",
       "232    66.4035\n",
       "Name: course_grade, Length: 233, dtype: float64"
      ]
     },
     "execution_count": 15,
     "metadata": {},
     "output_type": "execute_result"
    }
   ],
   "source": [
    "# Course grade is The dependent variable.\n",
    "dependent = df['course_grade']\n",
    "x = dependent\n",
    "x"
   ]
  },
  {
   "cell_type": "markdown",
   "metadata": {},
   "source": [
    "**Assumption 2: Independent variable**\n",
    "\n",
    "Independent variable should consist of two or more categorical, independent groups."
   ]
  },
  {
   "cell_type": "markdown",
   "metadata": {},
   "source": [
    "Check - Independent variable will be gender - male or female"
   ]
  },
  {
   "cell_type": "code",
   "execution_count": 17,
   "metadata": {},
   "outputs": [
    {
     "data": {
      "text/html": [
       "<div>\n",
       "<style scoped>\n",
       "    .dataframe tbody tr th:only-of-type {\n",
       "        vertical-align: middle;\n",
       "    }\n",
       "\n",
       "    .dataframe tbody tr th {\n",
       "        vertical-align: top;\n",
       "    }\n",
       "\n",
       "    .dataframe thead th {\n",
       "        text-align: right;\n",
       "    }\n",
       "</style>\n",
       "<table border=\"1\" class=\"dataframe\">\n",
       "  <thead>\n",
       "    <tr style=\"text-align: right;\">\n",
       "      <th></th>\n",
       "      <th>Unnamed: 0</th>\n",
       "      <th>exam1</th>\n",
       "      <th>exam2</th>\n",
       "      <th>exam3</th>\n",
       "      <th>course_grade</th>\n",
       "    </tr>\n",
       "    <tr>\n",
       "      <th>sex</th>\n",
       "      <th></th>\n",
       "      <th></th>\n",
       "      <th></th>\n",
       "      <th></th>\n",
       "      <th></th>\n",
       "    </tr>\n",
       "  </thead>\n",
       "  <tbody>\n",
       "    <tr>\n",
       "      <th>Man</th>\n",
       "      <td>188</td>\n",
       "      <td>187</td>\n",
       "      <td>188</td>\n",
       "      <td>188</td>\n",
       "      <td>188</td>\n",
       "    </tr>\n",
       "    <tr>\n",
       "      <th>Woman</th>\n",
       "      <td>45</td>\n",
       "      <td>45</td>\n",
       "      <td>45</td>\n",
       "      <td>45</td>\n",
       "      <td>45</td>\n",
       "    </tr>\n",
       "  </tbody>\n",
       "</table>\n",
       "</div>"
      ],
      "text/plain": [
       "       Unnamed: 0  exam1  exam2  exam3  course_grade\n",
       "sex                                                 \n",
       "Man           188    187    188    188           188\n",
       "Woman          45     45     45     45            45"
      ]
     },
     "execution_count": 17,
     "metadata": {},
     "output_type": "execute_result"
    }
   ],
   "source": [
    "# Independent variable.\n",
    "independent = df['sex']\n",
    "independent\n",
    "#use grouby and get count of each gender in dataset\n",
    "df.groupby(by = \"sex\").count()"
   ]
  },
  {
   "cell_type": "markdown",
   "metadata": {},
   "source": [
    "**Assumption 3:**\n",
    "\n",
    "You should have independence of observations, which means that there is no relationship between the observations in each group or between the groups themselves"
   ]
  },
  {
   "cell_type": "markdown",
   "metadata": {},
   "source": [
    "Check - gender has to be either male or female"
   ]
  },
  {
   "cell_type": "markdown",
   "metadata": {},
   "source": [
    "**Assumption 4: Outliers**\n",
    "\n",
    "There should be no significant outliers."
   ]
  },
  {
   "cell_type": "code",
   "execution_count": 18,
   "metadata": {},
   "outputs": [
    {
     "data": {
      "text/plain": [
       "<matplotlib.axes._subplots.AxesSubplot at 0x1d8df80c2e0>"
      ]
     },
     "execution_count": 18,
     "metadata": {},
     "output_type": "execute_result"
    },
    {
     "data": {
      "image/png": "[encoded data removed]",
      "text/plain": [
       "<Figure size 432x288 with 1 Axes>"
      ]
     },
     "metadata": {
      "needs_background": "light"
     },
     "output_type": "display_data"
    }
   ],
   "source": [
    "# https://seaborn.pydata.org/generated/seaborn.boxplot.html\n",
    "sns.boxplot(x=dependent, y=independent)"
   ]
  },
  {
   "cell_type": "markdown",
   "metadata": {},
   "source": [
    "Check - We can note from above there is some outliers for male but should not be significant enough to affect our anova, this can be seen with the outliers shows as diamond symbols -  further testing to see ..."
   ]
  },
  {
   "cell_type": "markdown",
   "metadata": {},
   "source": [
    "**Assumption 5: Normality**\n",
    "\n",
    "Dependent variable should be approximately normally distributed for each category of the independent variable."
   ]
  },
  {
   "cell_type": "markdown",
   "metadata": {},
   "source": [
    "**Assumption 6: Homogeneity of Variances**\n",
    "\n",
    "There needs to be homogeneity of variances"
   ]
  },
  {
   "cell_type": "markdown",
   "metadata": {},
   "source": [
    "### One-way ANOVA"
   ]
  },
  {
   "cell_type": "markdown",
   "metadata": {},
   "source": [
    "### Post Hoct Tests"
   ]
  },
  {
   "cell_type": "markdown",
   "metadata": {},
   "source": [
    "### Conclusion and Findings"
   ]
  },
  {
   "cell_type": "markdown",
   "metadata": {},
   "source": [
    "### References and Research to go here - (BR note -  more research currently in the word document )"
   ]
  },
  {
   "cell_type": "markdown",
   "metadata": {},
   "source": [
    "** BR NOTE - remember to link back to code and snippets above .\n",
    "\n",
    "Offical SciPy website - https://scipy.org/\n",
    "\n",
    "Tutroialspoint SciPy quick guide: https://www.tutorialspoint.com/scipy/scipy_quick_guide.htm\n",
    "\n",
    "Offical SciPy stats refernce website: https://docs.scipy.org/doc/scipy/reference/stats.html\n",
    "\n",
    "Basic Syntax Markdown - https://www.markdownguide.org/basic-syntax/\n",
    "\n",
    "Four Ways to Conduct One-Way ANOVA with Python - Erik Marsja - [https://www.marsja.se/four-ways-to-conduct-one-way-anovas-using-python/]\n",
    "\n",
    "Exploratory Data Analysis in Python - GeeksforGeeks - [https://www.geeksforgeeks.org/exploratory-data-analysis-in-python/]\n",
    "\n",
    "https://www.analyticsvidhya.com/blog/2020/06/introduction-anova-statistics-data-science-covid-python/\n",
    "\n",
    "ANOVA Test: Definition, Types, Examples, SPSS - Statistics How To [https://www.statisticshowto.com/probability-and-statistics/hypothesis-testing/anova/]\n",
    "\n",
    "Pandas Group By: https://pandas.pydata.org/docs/reference/api/pandas.DataFrame.groupby.html\n"
   ]
  },
  {
   "cell_type": "markdown",
   "metadata": {},
   "source": [
    "# END"
   ]
  },
  {
   "cell_type": "code",
   "execution_count": null,
   "metadata": {},
   "outputs": [],
   "source": []
  }
 ],
 "metadata": {
  "kernelspec": {
   "display_name": "Python 3",
   "language": "python",
   "name": "python3"
  },
  "language_info": {
   "codemirror_mode": {
    "name": "ipython",
    "version": 3
   },
   "file_extension": ".py",
   "mimetype": "text/x-python",
   "name": "python",
   "nbconvert_exporter": "python",
   "pygments_lexer": "ipython3",
   "version": "3.8.3"
  }
 },
 "nbformat": 4,
 "nbformat_minor": 4
}

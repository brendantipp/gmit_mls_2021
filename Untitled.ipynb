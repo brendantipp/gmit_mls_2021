{
 "cells": [
  {
   "cell_type": "code",
   "execution_count": null,
   "metadata": {},
   "outputs": [],
   "source": []
  },
  {
   "cell_type": "code",
   "execution_count": 74,
   "metadata": {},
   "outputs": [],
   "source": [
    "#import libraries as required \n",
    "import numpy as np\n",
    "\n",
    "#import skitlearn library for ML \n",
    "import sklearn as sk\n",
    "import sklearn.model_selection as mod\n",
    "from sklearn.model_selection import train_test_split #for comparison to model\n",
    "from sklearn.linear_model import LogisticRegression as lre\n",
    "\n",
    "#import pandas for data frames\n",
    "import pandas as pd\n",
    "\n",
    "#import matplotlib and seaborn for plotting \n",
    "import matplotlib.pyplot as plt\n",
    "import seaborn as sns"
   ]
  },
  {
   "cell_type": "code",
   "execution_count": null,
   "metadata": {},
   "outputs": [],
   "source": []
  },
  {
   "cell_type": "code",
   "execution_count": 54,
   "metadata": {},
   "outputs": [],
   "source": [
    "# Import the iris.csv dataset and name as df\n",
    "df = pd.read_csv(\"datasets/work/work_data2.csv\") #using pandas read_csv function\n",
    "#after research define species as type category thanks to https://github.com/simonava5/fishers-iris-data\n",
    "df['Demographic_Category'] = df['Demographic_Category'].astype('category') #category to be used for summary file\n",
    "df['Loan_Category'] = df['Loan_Category'].astype('category') #category to be used for summary file\n",
    "#df[Loan_Amount_Issued'].to_numpy()"
   ]
  },
  {
   "cell_type": "code",
   "execution_count": 55,
   "metadata": {},
   "outputs": [
    {
     "data": {
      "text/html": [
       "<div>\n",
       "<style scoped>\n",
       "    .dataframe tbody tr th:only-of-type {\n",
       "        vertical-align: middle;\n",
       "    }\n",
       "\n",
       "    .dataframe tbody tr th {\n",
       "        vertical-align: top;\n",
       "    }\n",
       "\n",
       "    .dataframe thead th {\n",
       "        text-align: right;\n",
       "    }\n",
       "</style>\n",
       "<table border=\"1\" class=\"dataframe\">\n",
       "  <thead>\n",
       "    <tr style=\"text-align: right;\">\n",
       "      <th></th>\n",
       "      <th>Demographic_Category</th>\n",
       "      <th>Loan_Category</th>\n",
       "      <th>Loan_Amount_Issued</th>\n",
       "    </tr>\n",
       "  </thead>\n",
       "  <tbody>\n",
       "    <tr>\n",
       "      <th>0</th>\n",
       "      <td>TEEN</td>\n",
       "      <td>PERSONAL</td>\n",
       "      <td>8000.0</td>\n",
       "    </tr>\n",
       "    <tr>\n",
       "      <th>1</th>\n",
       "      <td>TEEN</td>\n",
       "      <td>PERSONAL</td>\n",
       "      <td>8000.0</td>\n",
       "    </tr>\n",
       "    <tr>\n",
       "      <th>2</th>\n",
       "      <td>TEEN</td>\n",
       "      <td>PERSONAL</td>\n",
       "      <td>8000.0</td>\n",
       "    </tr>\n",
       "    <tr>\n",
       "      <th>3</th>\n",
       "      <td>TEEN</td>\n",
       "      <td>PERSONAL</td>\n",
       "      <td>8000.0</td>\n",
       "    </tr>\n",
       "    <tr>\n",
       "      <th>4</th>\n",
       "      <td>TEEN</td>\n",
       "      <td>PERSONAL</td>\n",
       "      <td>8000.0</td>\n",
       "    </tr>\n",
       "  </tbody>\n",
       "</table>\n",
       "</div>"
      ],
      "text/plain": [
       "  Demographic_Category Loan_Category  Loan_Amount_Issued\n",
       "0                 TEEN      PERSONAL              8000.0\n",
       "1                 TEEN      PERSONAL              8000.0\n",
       "2                 TEEN      PERSONAL              8000.0\n",
       "3                 TEEN      PERSONAL              8000.0\n",
       "4                 TEEN      PERSONAL              8000.0"
      ]
     },
     "execution_count": 55,
     "metadata": {},
     "output_type": "execute_result"
    }
   ],
   "source": [
    "df.describe()\n",
    "df.head()"
   ]
  },
  {
   "cell_type": "code",
   "execution_count": 56,
   "metadata": {},
   "outputs": [],
   "source": [
    "#Split our data in trainng and testing models\n",
    "train, test = mod.train_test_split(df,test_size=.40,random_state=1)\n",
    "#or\n",
    "#X_train, X_test, y_train, y_test = train_test_split(X, y, test_size = 0.10,random_state=1)\n"
   ]
  },
  {
   "cell_type": "code",
   "execution_count": 60,
   "metadata": {},
   "outputs": [
    {
     "data": {
      "text/html": [
       "<div>\n",
       "<style scoped>\n",
       "    .dataframe tbody tr th:only-of-type {\n",
       "        vertical-align: middle;\n",
       "    }\n",
       "\n",
       "    .dataframe tbody tr th {\n",
       "        vertical-align: top;\n",
       "    }\n",
       "\n",
       "    .dataframe thead th {\n",
       "        text-align: right;\n",
       "    }\n",
       "</style>\n",
       "<table border=\"1\" class=\"dataframe\">\n",
       "  <thead>\n",
       "    <tr style=\"text-align: right;\">\n",
       "      <th></th>\n",
       "      <th>Loan_Amount_Issued</th>\n",
       "    </tr>\n",
       "    <tr>\n",
       "      <th>Loan_Category</th>\n",
       "      <th></th>\n",
       "    </tr>\n",
       "  </thead>\n",
       "  <tbody>\n",
       "    <tr>\n",
       "      <th>BUSINESS</th>\n",
       "      <td>4045.454545</td>\n",
       "    </tr>\n",
       "    <tr>\n",
       "      <th>MORTGAGE/HOUSING</th>\n",
       "      <td>5000.000000</td>\n",
       "    </tr>\n",
       "    <tr>\n",
       "      <th>PERSONAL</th>\n",
       "      <td>2280.607880</td>\n",
       "    </tr>\n",
       "  </tbody>\n",
       "</table>\n",
       "</div>"
      ],
      "text/plain": [
       "                  Loan_Amount_Issued\n",
       "Loan_Category                       \n",
       "BUSINESS                 4045.454545\n",
       "MORTGAGE/HOUSING         5000.000000\n",
       "PERSONAL                 2280.607880"
      ]
     },
     "execution_count": 60,
     "metadata": {},
     "output_type": "execute_result"
    }
   ],
   "source": [
    "x = df.groupby('Loan_Category')\n",
    "x\n",
    "x.mean()"
   ]
  },
  {
   "cell_type": "code",
   "execution_count": 64,
   "metadata": {},
   "outputs": [],
   "source": [
    "inputs, outputs = train[['Loan_Amount_Issued','Loan_Category']], train['Demographic_Category']"
   ]
  },
  {
   "cell_type": "code",
   "execution_count": 65,
   "metadata": {},
   "outputs": [
    {
     "data": {
      "text/html": [
       "<div>\n",
       "<style scoped>\n",
       "    .dataframe tbody tr th:only-of-type {\n",
       "        vertical-align: middle;\n",
       "    }\n",
       "\n",
       "    .dataframe tbody tr th {\n",
       "        vertical-align: top;\n",
       "    }\n",
       "\n",
       "    .dataframe thead th {\n",
       "        text-align: right;\n",
       "    }\n",
       "</style>\n",
       "<table border=\"1\" class=\"dataframe\">\n",
       "  <thead>\n",
       "    <tr style=\"text-align: right;\">\n",
       "      <th></th>\n",
       "      <th>Loan_Amount_Issued</th>\n",
       "      <th>Loan_Category</th>\n",
       "    </tr>\n",
       "  </thead>\n",
       "  <tbody>\n",
       "    <tr>\n",
       "      <th>60</th>\n",
       "      <td>8000.0</td>\n",
       "      <td>PERSONAL</td>\n",
       "    </tr>\n",
       "    <tr>\n",
       "      <th>2552</th>\n",
       "      <td>250.0</td>\n",
       "      <td>PERSONAL</td>\n",
       "    </tr>\n",
       "    <tr>\n",
       "      <th>264</th>\n",
       "      <td>6000.0</td>\n",
       "      <td>PERSONAL</td>\n",
       "    </tr>\n",
       "    <tr>\n",
       "      <th>456</th>\n",
       "      <td>5000.0</td>\n",
       "      <td>PERSONAL</td>\n",
       "    </tr>\n",
       "    <tr>\n",
       "      <th>596</th>\n",
       "      <td>4000.0</td>\n",
       "      <td>PERSONAL</td>\n",
       "    </tr>\n",
       "  </tbody>\n",
       "</table>\n",
       "</div>"
      ],
      "text/plain": [
       "      Loan_Amount_Issued Loan_Category\n",
       "60                8000.0      PERSONAL\n",
       "2552               250.0      PERSONAL\n",
       "264               6000.0      PERSONAL\n",
       "456               5000.0      PERSONAL\n",
       "596               4000.0      PERSONAL"
      ]
     },
     "execution_count": 65,
     "metadata": {},
     "output_type": "execute_result"
    }
   ],
   "source": [
    "inputs.head()"
   ]
  },
  {
   "cell_type": "code",
   "execution_count": 66,
   "metadata": {},
   "outputs": [
    {
     "data": {
      "text/plain": [
       "60      OVER 50s\n",
       "2552    OVER 50s\n",
       "264     OVER 65s\n",
       "456     OVER 50s\n",
       "596     OVER 50s\n",
       "Name: Demographic_Category, dtype: category\n",
       "Categories (9, object): [ADULT SINGLE, OTHERS, OVER 50s, OVER 65s, ..., TEEN, YOUNG COUPLE, YOUNG FAMILY, YOUNG SINGLE]"
      ]
     },
     "execution_count": 66,
     "metadata": {},
     "output_type": "execute_result"
    }
   ],
   "source": [
    "outputs.head()"
   ]
  },
  {
   "cell_type": "code",
   "execution_count": 80,
   "metadata": {},
   "outputs": [],
   "source": [
    "#import required library and classifier \n",
    "from sklearn import tree\n",
    "from sklearn.tree import DecisionTreeClassifier,plot_tree\n",
    "import sklearn.linear_model as lm"
   ]
  },
  {
   "cell_type": "code",
   "execution_count": 69,
   "metadata": {},
   "outputs": [],
   "source": [
    "dtc = DecisionTreeClassifier (random_state=1)"
   ]
  },
  {
   "cell_type": "code",
   "execution_count": 72,
   "metadata": {},
   "outputs": [],
   "source": [
    "#fit\n",
    "#dtc.fit(inputs,outputs)"
   ]
  },
  {
   "cell_type": "code",
   "execution_count": 82,
   "metadata": {},
   "outputs": [],
   "source": [
    "lre = lm.LogisticRegression(random_state=0)"
   ]
  },
  {
   "cell_type": "code",
   "execution_count": 84,
   "metadata": {},
   "outputs": [],
   "source": [
    "#lre.fit(inputs,outputs)"
   ]
  },
  {
   "cell_type": "code",
   "execution_count": null,
   "metadata": {},
   "outputs": [],
   "source": []
  }
 ],
 "metadata": {
  "kernelspec": {
   "display_name": "Python 3",
   "language": "python",
   "name": "python3"
  },
  "language_info": {
   "codemirror_mode": {
    "name": "ipython",
    "version": 3
   },
   "file_extension": ".py",
   "mimetype": "text/x-python",
   "name": "python",
   "nbconvert_exporter": "python",
   "pygments_lexer": "ipython3",
   "version": "3.8.3"
  }
 },
 "nbformat": 4,
 "nbformat_minor": 4
}

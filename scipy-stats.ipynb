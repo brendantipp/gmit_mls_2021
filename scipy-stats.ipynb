{
 "cells": [
  {
   "cell_type": "markdown",
   "metadata": {},
   "source": [
    "![Scipy Logo](images/scipy_logo2.PNG)"
   ]
  },
  {
   "cell_type": "markdown",
   "metadata": {},
   "source": [
    "## An Overview of Scipy and Scipy.Stats"
   ]
  },
  {
   "cell_type": "markdown",
   "metadata": {},
   "source": [
    "---"
   ]
  },
  {
   "cell_type": "markdown",
   "metadata": {},
   "source": [
    "### **Firstly what is SciPy**\n",
    "\n",
    "SciPy is an open source scientific library for Python which gives us the ability to perform Mathematical, Scientific and Engineering Computations. SciPy also provides algorithms for optimization, integration, interpolation, eigenvalue problems, algebraic equations, differential equations, statistics and many other classes of problems..\n",
    "\n",
    "The SciPy library is built to work with NumPy arrays and provides use with many user-friendly and efficient numerical practices such as routines for numerical integration and optimization. NumPy and SciPy are easy to use, but powerful enough to be used by some of the world's leading scientists and engineers.!!! \n",
    "\n",
    "#### **What is SciPy.stats?**\n",
    "\n",
    "All of the statistics functions of the SciPy library are located in the sub-package named scipy.stats. used for statistical analysis\n",
    "\n",
    "##### **Uses of SciPy.stats**\n",
    "\n",
    "From my research I found out that the stats module scipy.stats is a very important feature of SciPy. \n",
    "\n",
    "It is useful for obtaining probabilistic distributions. SciPy Stats can generate discrete or continuous random numbers. It also consists of many other functions to generate descriptive statistical values. We can deal with random, continuous, and random variables. It also has functions for working with various types of distributions. \n",
    "\n",
    "It offers us the ability to perform a wide range of statistic analysis."
   ]
  },
  {
   "cell_type": "markdown",
   "metadata": {},
   "source": [
    "[1] https://scipy.org/\n",
    "\n",
    "[2] https://www.tutorialspoint.com/scipy/scipy_quick_guide.htm\n",
    "\n",
    "[3] https://docs.scipy.org/doc/scipy/reference/stats.html"
   ]
  },
  {
   "cell_type": "markdown",
   "metadata": {},
   "source": [
    "### **Overview of ANOVA Testing**"
   ]
  },
  {
   "cell_type": "markdown",
   "metadata": {},
   "source": [
    "ANOVA is a means of comparing the ratio of systematic variance to unsystematic variance in an experimental study. Variance in the ANOVA is partitioned into total variance, variance due to groups, and variance due to individual differences.\n",
    "\n",
    "The ratio obtained when doing this comparison is known as the F-ratio. A one-way ANOVA can be seen as a regression model with a single categorical predictor. This predictor usually has two plus categories. A one-way ANOVA has a single factor with J levels. Each level corresponds to the groups in the independent measures design\n",
    "\n",
    "Each experimental condition should have roughly the same variance (i.e., homogeneity of variance), the observations (e.g., each group) should be independent, and the dependent variable should be measured on, at least,  an interval scale.\n",
    "https://www.marsja.se/four-ways-to-conduct-one-way-anovas-using-python/\n",
    "\n",
    "\n",
    "#### Assumptions \n",
    "- Assumption 1: Dependent variable*** -Dependent variable should be measured at the interval or ratio level\n",
    "- Assumption 2: Independent variable*** - Independent variable should consist of two or more categorical, independent groups.\n",
    "- Assumption 3: You should have independence of observations, which means that there is no relationship between the observations in each group or between the groups themselves\n",
    "- Assumption 4: Outliers - There should be no significant outliers.\n",
    "- Assumption 5: Normality -  Dependent variable should be approximately normally distributed for each category of the independent variable.\n",
    "- Assumption 6: Homogeneity of Variances - There needs to be homogeneity of variances\n",
    "\n",
    "I will go through these 6 assumptions below when performing my Anova Testing below on my sample datasets.\n"
   ]
  },
  {
   "cell_type": "markdown",
   "metadata": {},
   "source": [
    "#### A word on T - Tests "
   ]
  },
  {
   "cell_type": "markdown",
   "metadata": {},
   "source": [
    "T Test  is a statistical significance test that is used to compare the means of two groups and determine if the difference in means is statistically significant.\n",
    "\n",
    "T-tests are several types of hypothesis testing and are among the most common statistical tests performed in world. Tests include on sample, standard t-Test and paired sample. In general they all follow the same pattern.\n",
    "\n",
    "Example -  we could use a independent t-test to understand whether first year graduate salaries differed based on gender (i.e., your dependent variable would be \"first year graduate salaries\" and your independent variable would be \"gender\", which has two groups: \"male\" and \"female\")."
   ]
  },
  {
   "cell_type": "markdown",
   "metadata": {},
   "source": [
    "##### t-Test demo\n",
    "\n",
    "I am going to perfrom a demo t-Test oon te grades dataset which is availabel at []. The aim of the test is to is see is the diffenrce in the mean final grade is statiscally significant per gender (male or female)"
   ]
  },
  {
   "cell_type": "markdown",
   "metadata": {},
   "source": [
    "_________________"
   ]
  },
  {
   "cell_type": "markdown",
   "metadata": {},
   "source": [
    "I will start with my imports, importing the standard ones numpy, seaborn, pandss etc and then the Scipy stats molibrary and the t-Test module required"
   ]
  },
  {
   "cell_type": "code",
   "execution_count": 1,
   "metadata": {},
   "outputs": [],
   "source": [
    "# Numerical arrays.\n",
    "import numpy as np\n",
    "# Plotting.\n",
    "import seaborn as sns\n",
    "#pandas for dataframes \n",
    "import pandas as pd\n",
    "# Stats scipy stats\n",
    "import scipy.stats as ss\n",
    "## scipy stats t-Test\n",
    "from scipy.stats import ttest_ind\n",
    "## scipy stats specials\n",
    "import scipy.special as spec\n",
    "\n",
    "##import collections\n",
    "import collections as co\n",
    "#magic script for plots\n",
    "%matplotlib inline"
   ]
  },
  {
   "cell_type": "markdown",
   "metadata": {},
   "source": [
    "Next i will import in my test datasets - this will be the Grades Dataset and will import it using pandas as a data frame"
   ]
  },
  {
   "cell_type": "code",
   "execution_count": 2,
   "metadata": {},
   "outputs": [],
   "source": [
    "#import in my dataset\n",
    "df_grades = pd.read_csv('datasets/grades/exam_grades.csv')"
   ]
  },
  {
   "cell_type": "code",
   "execution_count": 3,
   "metadata": {},
   "outputs": [
    {
     "name": "stdout",
     "output_type": "stream",
     "text": [
      "<class 'pandas.core.frame.DataFrame'>\n",
      "RangeIndex: 232 entries, 0 to 231\n",
      "Data columns (total 6 columns):\n",
      " #   Column        Non-Null Count  Dtype  \n",
      "---  ------        --------------  -----  \n",
      " 0   ID            232 non-null    int64  \n",
      " 1   sex           232 non-null    object \n",
      " 2   exam1         232 non-null    float64\n",
      " 3   exam2         232 non-null    float64\n",
      " 4   exam3         232 non-null    float64\n",
      " 5   course_grade  232 non-null    float64\n",
      "dtypes: float64(4), int64(1), object(1)\n",
      "memory usage: 11.0+ KB\n"
     ]
    }
   ],
   "source": [
    "df_grades.info()"
   ]
  },
  {
   "cell_type": "code",
   "execution_count": 4,
   "metadata": {},
   "outputs": [],
   "source": [
    "#to convert gender to a cateogroy rather than object\n",
    "df_grades[\"sex\"] = df_grades[\"sex\"].astype(\"category\")\n",
    "sex = df_grades[\"sex\"]\n",
    "course_grade = df_grades['course_grade']"
   ]
  },
  {
   "cell_type": "markdown",
   "metadata": {},
   "source": [
    "Next i will give a visual representation of my categories using a catplot and box plot from the seaborn plotting library\n",
    "links to catplot and box plot "
   ]
  },
  {
   "cell_type": "code",
   "execution_count": 5,
   "metadata": {},
   "outputs": [
    {
     "data": {
      "image/png": "[encoded data removed]",
      "text/plain": [
       "<Figure size 360x360 with 1 Axes>"
      ]
     },
     "metadata": {
      "needs_background": "light"
     },
     "output_type": "display_data"
    }
   ],
   "source": [
    "sns.catplot(x ='sex', y ='course_grade',jitter=True ,data=df_grades);"
   ]
  },
  {
   "cell_type": "code",
   "execution_count": 6,
   "metadata": {},
   "outputs": [
    {
     "data": {
      "image/png": "[encoded data removed]",
      "text/plain": [
       "<Figure size 432x288 with 1 Axes>"
      ]
     },
     "metadata": {
      "needs_background": "light"
     },
     "output_type": "display_data"
    }
   ],
   "source": [
    "sns.boxplot(x = df_grades['course_grade'], y =df_grades['sex']);"
   ]
  },
  {
   "cell_type": "markdown",
   "metadata": {},
   "source": [
    "Ok so we can see from above that there is a bigger spread of results for males with some outliers showing on the box plot. However both plots are showing the mean is in around 73 to 75 so i would imagine the result of my t-Test to show that there no statistical significance in the diference of the mean grade - lets see"
   ]
  },
  {
   "cell_type": "markdown",
   "metadata": {},
   "source": [
    "__Null hypothesis__\n",
    "All statistical tests have a null hypothesis. For most tests, the null hypothesis is that there is no relationship between your variables of interest or that there is no difference among groups.\n",
    "\n",
    "__The P Value__\n",
    "\n",
    "https://www.scribbr.com/statistics/p-value/\n",
    "\n",
    "The p-value, or probability value, tells you how likely it is that your data could have occurred under the null hypothesis.\n",
    "The p-value tells you how often you would expect to see a test statistic as extreme or more extreme than the one calculated by your statistical test if the null hypothesis of that test was true. The p-value gets smaller as the test statistic calculated from your data gets further away from the range of test statistics predicted by the null hypothesis.\n",
    "The p-value is a proportion: if your p-value is 0.05, that means that 5% of the time you would see a test statistic at least as extreme as the one you found if the null hypothesis was true.\n"
   ]
  },
  {
   "cell_type": "markdown",
   "metadata": {},
   "source": [
    "![image](https://th.bing.com/th/id/R.470e9336f6c1b6ade719d9dd809a251e?rik=alXMZh6%2f7Zrk%2fg&riu=http%3a%2f%2fdsm1lp.files.wordpress.com%2f2012%2f02%2f2008_03_10_null_hypothesis.jpg&ehk=gmv1erPErrMTRVjyiXJV6IOoN4PJUUSaPo7cBsDBuLw%3d&risl=&pid=ImgRaw&r=0)"
   ]
  },
  {
   "cell_type": "markdown",
   "metadata": {},
   "source": [
    "### Running the t-Test"
   ]
  },
  {
   "cell_type": "code",
   "execution_count": 7,
   "metadata": {},
   "outputs": [
    {
     "name": "stdout",
     "output_type": "stream",
     "text": [
      "t-value: -1.421028169981253\tp-value: 0.15666292284818942\n",
      "P_scipy: 0.16\n"
     ]
    }
   ],
   "source": [
    "#define my two groups\n",
    "male_group = df_grades.loc[df_grades[\"sex\"] =='Man',\"course_grade\"]\n",
    "female_group = df_grades.loc[df_grades[\"sex\"] =='Woman', \"course_grade\"]\n",
    "#run my t test using ttest_ind from scipy stats\n",
    "t_ss, p_ss = ss.ttest_ind(male_group,female_group)\n",
    "print(f\"t-value: {t_ss}\\tp-value: {p_ss}\")\n",
    "#round to 2 decimal \n",
    "print(f\"P_scipy: {p_ss:0.2f}\")"
   ]
  },
  {
   "cell_type": "markdown",
   "metadata": {},
   "source": [
    "__Ok so what does our values tell us__\n",
    "\n",
    "In our  comparison of final course grades per gender groups our p-value is .16 or 16% , above our threshold value of 0.05; therefore we can determine that there is NO statistically significant difference final grades between the gender groups male and female. This is an interest post where the opposite was the finding and there as a statistical significance between the gender groups - https://www.southampton.ac.uk/passs/gcse_scores/bivariate_analysis/t_test.page"
   ]
  },
  {
   "cell_type": "markdown",
   "metadata": {},
   "source": [
    "So what if I had 3 groups that needed testing?\n",
    "\n",
    "We learnt from the lectures that using more than 2 groups for t tests is a bad idea (like 3 t tests) - the chance that you will get an error in your analysus becomes unpredictable and will result in artificially low p-values and lets you overestimate the significance of the difference between groups, , using anova testing is then better as we only need to run one test."
   ]
  },
  {
   "cell_type": "markdown",
   "metadata": {},
   "source": [
    "For demo and comparison im going to run a one way ANOVA test which is covered in the next section to see what score we get and will compare further on"
   ]
  },
  {
   "cell_type": "code",
   "execution_count": 8,
   "metadata": {},
   "outputs": [
    {
     "name": "stdout",
     "output_type": "stream",
     "text": [
      "0.16\n"
     ]
    }
   ],
   "source": [
    "F,P = ss.f_oneway(male_group,female_group)\n",
    "print(f\"{P:.2f}\")"
   ]
  },
  {
   "cell_type": "markdown",
   "metadata": {},
   "source": [
    "________"
   ]
  },
  {
   "cell_type": "markdown",
   "metadata": {},
   "source": [
    "## __ANOVA__"
   ]
  },
  {
   "cell_type": "markdown",
   "metadata": {},
   "source": [
    "__ANOVA__, which stands for __Analysis of Variance__, is a statistical test used to analyze the difference between the means of more than two groups."
   ]
  },
  {
   "cell_type": "markdown",
   "metadata": {},
   "source": [
    "A one-way ANOVA uses one independent variable, while a two-way ANOVA uses two independent variables."
   ]
  },
  {
   "cell_type": "markdown",
   "metadata": {},
   "source": [
    "- The null hypothesis of ANOVA is that there is no difference among group means. - \n",
    "- The alternate hypothesis is that at least one group differs significantly from the overall mean of the dependent variable."
   ]
  },
  {
   "cell_type": "markdown",
   "metadata": {},
   "source": [
    "## Demonstrations of Anova"
   ]
  },
  {
   "cell_type": "markdown",
   "metadata": {},
   "source": [
    "### Exploring the dataset - work data"
   ]
  },
  {
   "cell_type": "markdown",
   "metadata": {},
   "source": [
    "For my demonstations i am going to use a workdataset that i extracted using our BI tool pentaho. \n",
    "My aim is to check for statistical differences between the amounts borrowed for personal loans up to 8,000 (dependent variable) and my independing varibales. We are looking at introducing a new revovling credit loan with a maximum value of 8,000. The results could be useful from a rollout and marketing viewpoint.\n",
    "- per deomgraphich category (one way anova)\n",
    "- per domographic cateogory and loan category (two way anova)"
   ]
  },
  {
   "cell_type": "markdown",
   "metadata": {},
   "source": [
    "Firstly import my data"
   ]
  },
  {
   "cell_type": "code",
   "execution_count": 9,
   "metadata": {},
   "outputs": [
    {
     "data": {
      "text/html": [
       "<div>\n",
       "<style scoped>\n",
       "    .dataframe tbody tr th:only-of-type {\n",
       "        vertical-align: middle;\n",
       "    }\n",
       "\n",
       "    .dataframe tbody tr th {\n",
       "        vertical-align: top;\n",
       "    }\n",
       "\n",
       "    .dataframe thead th {\n",
       "        text-align: right;\n",
       "    }\n",
       "</style>\n",
       "<table border=\"1\" class=\"dataframe\">\n",
       "  <thead>\n",
       "    <tr style=\"text-align: right;\">\n",
       "      <th></th>\n",
       "      <th>Demographic_Category</th>\n",
       "      <th>Loan Category</th>\n",
       "      <th>Loan_Amount_Issued</th>\n",
       "    </tr>\n",
       "  </thead>\n",
       "  <tbody>\n",
       "    <tr>\n",
       "      <th>0</th>\n",
       "      <td>YOUNG SINGLE</td>\n",
       "      <td>PERSONAL</td>\n",
       "      <td>6000.0</td>\n",
       "    </tr>\n",
       "    <tr>\n",
       "      <th>1</th>\n",
       "      <td>YOUNG SINGLE</td>\n",
       "      <td>PERSONAL</td>\n",
       "      <td>6000.0</td>\n",
       "    </tr>\n",
       "    <tr>\n",
       "      <th>2</th>\n",
       "      <td>YOUNG SINGLE</td>\n",
       "      <td>PERSONAL</td>\n",
       "      <td>6000.0</td>\n",
       "    </tr>\n",
       "    <tr>\n",
       "      <th>3</th>\n",
       "      <td>YOUNG SINGLE</td>\n",
       "      <td>PERSONAL</td>\n",
       "      <td>6000.0</td>\n",
       "    </tr>\n",
       "    <tr>\n",
       "      <th>4</th>\n",
       "      <td>YOUNG SINGLE</td>\n",
       "      <td>PERSONAL</td>\n",
       "      <td>6000.0</td>\n",
       "    </tr>\n",
       "    <tr>\n",
       "      <th>...</th>\n",
       "      <td>...</td>\n",
       "      <td>...</td>\n",
       "      <td>...</td>\n",
       "    </tr>\n",
       "    <tr>\n",
       "      <th>1928</th>\n",
       "      <td>OVER 65s</td>\n",
       "      <td>PERSONAL</td>\n",
       "      <td>500.0</td>\n",
       "    </tr>\n",
       "    <tr>\n",
       "      <th>1929</th>\n",
       "      <td>OVER 65s</td>\n",
       "      <td>PERSONAL</td>\n",
       "      <td>500.0</td>\n",
       "    </tr>\n",
       "    <tr>\n",
       "      <th>1930</th>\n",
       "      <td>OVER 65s</td>\n",
       "      <td>PERSONAL</td>\n",
       "      <td>500.0</td>\n",
       "    </tr>\n",
       "    <tr>\n",
       "      <th>1931</th>\n",
       "      <td>OVER 65s</td>\n",
       "      <td>PERSONAL</td>\n",
       "      <td>500.0</td>\n",
       "    </tr>\n",
       "    <tr>\n",
       "      <th>1932</th>\n",
       "      <td>OVER 65s</td>\n",
       "      <td>PERSONAL</td>\n",
       "      <td>500.0</td>\n",
       "    </tr>\n",
       "  </tbody>\n",
       "</table>\n",
       "<p>1933 rows × 3 columns</p>\n",
       "</div>"
      ],
      "text/plain": [
       "     Demographic_Category Loan Category  Loan_Amount_Issued\n",
       "0            YOUNG SINGLE      PERSONAL              6000.0\n",
       "1            YOUNG SINGLE      PERSONAL              6000.0\n",
       "2            YOUNG SINGLE      PERSONAL              6000.0\n",
       "3            YOUNG SINGLE      PERSONAL              6000.0\n",
       "4            YOUNG SINGLE      PERSONAL              6000.0\n",
       "...                   ...           ...                 ...\n",
       "1928             OVER 65s      PERSONAL               500.0\n",
       "1929             OVER 65s      PERSONAL               500.0\n",
       "1930             OVER 65s      PERSONAL               500.0\n",
       "1931             OVER 65s      PERSONAL               500.0\n",
       "1932             OVER 65s      PERSONAL               500.0\n",
       "\n",
       "[1933 rows x 3 columns]"
      ]
     },
     "execution_count": 9,
     "metadata": {},
     "output_type": "execute_result"
    }
   ],
   "source": [
    "#import dataset\n",
    "df = pd.read_csv('datasets/work/work_data.csv')\n",
    "#display daframe\n",
    "df"
   ]
  },
  {
   "cell_type": "markdown",
   "metadata": {},
   "source": [
    "__Tidy Data__\n",
    "This dataset is very clean as it has been manipulated and extracted using a BI tool removing empty values etc - this may not always be the case with a real world dataset"
   ]
  },
  {
   "cell_type": "markdown",
   "metadata": {},
   "source": [
    "Exploring our data further with pandas tools df.head and df.describe - lets see what we have to work with"
   ]
  },
  {
   "cell_type": "code",
   "execution_count": 10,
   "metadata": {},
   "outputs": [
    {
     "data": {
      "text/html": [
       "<div>\n",
       "<style scoped>\n",
       "    .dataframe tbody tr th:only-of-type {\n",
       "        vertical-align: middle;\n",
       "    }\n",
       "\n",
       "    .dataframe tbody tr th {\n",
       "        vertical-align: top;\n",
       "    }\n",
       "\n",
       "    .dataframe thead th {\n",
       "        text-align: right;\n",
       "    }\n",
       "</style>\n",
       "<table border=\"1\" class=\"dataframe\">\n",
       "  <thead>\n",
       "    <tr style=\"text-align: right;\">\n",
       "      <th></th>\n",
       "      <th>Demographic_Category</th>\n",
       "      <th>Loan Category</th>\n",
       "      <th>Loan_Amount_Issued</th>\n",
       "    </tr>\n",
       "  </thead>\n",
       "  <tbody>\n",
       "    <tr>\n",
       "      <th>0</th>\n",
       "      <td>YOUNG SINGLE</td>\n",
       "      <td>PERSONAL</td>\n",
       "      <td>6000.0</td>\n",
       "    </tr>\n",
       "    <tr>\n",
       "      <th>1</th>\n",
       "      <td>YOUNG SINGLE</td>\n",
       "      <td>PERSONAL</td>\n",
       "      <td>6000.0</td>\n",
       "    </tr>\n",
       "    <tr>\n",
       "      <th>2</th>\n",
       "      <td>YOUNG SINGLE</td>\n",
       "      <td>PERSONAL</td>\n",
       "      <td>6000.0</td>\n",
       "    </tr>\n",
       "    <tr>\n",
       "      <th>3</th>\n",
       "      <td>YOUNG SINGLE</td>\n",
       "      <td>PERSONAL</td>\n",
       "      <td>6000.0</td>\n",
       "    </tr>\n",
       "    <tr>\n",
       "      <th>4</th>\n",
       "      <td>YOUNG SINGLE</td>\n",
       "      <td>PERSONAL</td>\n",
       "      <td>6000.0</td>\n",
       "    </tr>\n",
       "  </tbody>\n",
       "</table>\n",
       "</div>"
      ],
      "text/plain": [
       "  Demographic_Category Loan Category  Loan_Amount_Issued\n",
       "0         YOUNG SINGLE      PERSONAL              6000.0\n",
       "1         YOUNG SINGLE      PERSONAL              6000.0\n",
       "2         YOUNG SINGLE      PERSONAL              6000.0\n",
       "3         YOUNG SINGLE      PERSONAL              6000.0\n",
       "4         YOUNG SINGLE      PERSONAL              6000.0"
      ]
     },
     "execution_count": 10,
     "metadata": {},
     "output_type": "execute_result"
    }
   ],
   "source": [
    "#display on screen first 5 rows\n",
    "df.head()"
   ]
  },
  {
   "cell_type": "code",
   "execution_count": 11,
   "metadata": {},
   "outputs": [
    {
     "data": {
      "text/html": [
       "<div>\n",
       "<style scoped>\n",
       "    .dataframe tbody tr th:only-of-type {\n",
       "        vertical-align: middle;\n",
       "    }\n",
       "\n",
       "    .dataframe tbody tr th {\n",
       "        vertical-align: top;\n",
       "    }\n",
       "\n",
       "    .dataframe thead th {\n",
       "        text-align: right;\n",
       "    }\n",
       "</style>\n",
       "<table border=\"1\" class=\"dataframe\">\n",
       "  <thead>\n",
       "    <tr style=\"text-align: right;\">\n",
       "      <th></th>\n",
       "      <th>Loan_Amount_Issued</th>\n",
       "    </tr>\n",
       "  </thead>\n",
       "  <tbody>\n",
       "    <tr>\n",
       "      <th>count</th>\n",
       "      <td>1933.000000</td>\n",
       "    </tr>\n",
       "    <tr>\n",
       "      <th>mean</th>\n",
       "      <td>2254.593978</td>\n",
       "    </tr>\n",
       "    <tr>\n",
       "      <th>std</th>\n",
       "      <td>1645.525404</td>\n",
       "    </tr>\n",
       "    <tr>\n",
       "      <th>min</th>\n",
       "      <td>500.000000</td>\n",
       "    </tr>\n",
       "    <tr>\n",
       "      <th>25%</th>\n",
       "      <td>1000.000000</td>\n",
       "    </tr>\n",
       "    <tr>\n",
       "      <th>50%</th>\n",
       "      <td>1800.000000</td>\n",
       "    </tr>\n",
       "    <tr>\n",
       "      <th>75%</th>\n",
       "      <td>3000.000000</td>\n",
       "    </tr>\n",
       "    <tr>\n",
       "      <th>max</th>\n",
       "      <td>6000.000000</td>\n",
       "    </tr>\n",
       "  </tbody>\n",
       "</table>\n",
       "</div>"
      ],
      "text/plain": [
       "       Loan_Amount_Issued\n",
       "count         1933.000000\n",
       "mean          2254.593978\n",
       "std           1645.525404\n",
       "min            500.000000\n",
       "25%           1000.000000\n",
       "50%           1800.000000\n",
       "75%           3000.000000\n",
       "max           6000.000000"
      ]
     },
     "execution_count": 11,
     "metadata": {},
     "output_type": "execute_result"
    }
   ],
   "source": [
    "#show a tabular discription of the dataset\n",
    "df.describe()"
   ]
  },
  {
   "cell_type": "markdown",
   "metadata": {},
   "source": [
    "### Anova Test 1 - One way anova"
   ]
  },
  {
   "cell_type": "markdown",
   "metadata": {},
   "source": [
    "#### Assumptions"
   ]
  },
  {
   "cell_type": "markdown",
   "metadata": {},
   "source": [
    "When we choose to analyse our data using a one-way ANOVA, part of the process involves checking to make sure that the data we want to analyse can actually be analysed using a one-way ANOVA. We need to do this because it is only appropriate to use a one-way ANOVA if our data \"passes\" six assumptions that are required for a one-way ANOVA to give you a valid result.\n",
    "[https://statistics.laerd.com/spss-tutorials/one-way-anova-using-spss-statistics.php]"
   ]
  },
  {
   "cell_type": "markdown",
   "metadata": {},
   "source": [
    "______________"
   ]
  },
  {
   "cell_type": "markdown",
   "metadata": {},
   "source": [
    "***Assumption 1: Dependent variable***\n",
    "\n",
    "Dependent variable should be measured at the interval or ratio level."
   ]
  },
  {
   "cell_type": "code",
   "execution_count": 12,
   "metadata": {},
   "outputs": [
    {
     "data": {
      "text/plain": [
       "0       6000.0\n",
       "1       6000.0\n",
       "2       6000.0\n",
       "3       6000.0\n",
       "4       6000.0\n",
       "         ...  \n",
       "1928     500.0\n",
       "1929     500.0\n",
       "1930     500.0\n",
       "1931     500.0\n",
       "1932     500.0\n",
       "Name: Loan_Amount_Issued, Length: 1933, dtype: float64"
      ]
     },
     "execution_count": 12,
     "metadata": {},
     "output_type": "execute_result"
    }
   ],
   "source": [
    "# Loam Amount Issued is The dependent variable.\n",
    "#df[\"Loan_Amount_Issued\"] = df.Loan_Amount_Issued.astype(float)\n",
    "dependent = df['Loan_Amount_Issued']\n",
    "x = dependent\n",
    "x"
   ]
  },
  {
   "cell_type": "markdown",
   "metadata": {},
   "source": [
    "Yes we can be happy that assumption 1 is satisfied and our data is at/in numerical intervals "
   ]
  },
  {
   "cell_type": "markdown",
   "metadata": {},
   "source": [
    "________________"
   ]
  },
  {
   "cell_type": "markdown",
   "metadata": {},
   "source": [
    "***Assumption 2: Independent variable***\n",
    "\n",
    "Independent variable should consist of two or more categorical, independent groups."
   ]
  },
  {
   "cell_type": "code",
   "execution_count": 13,
   "metadata": {},
   "outputs": [
    {
     "data": {
      "text/html": [
       "<div>\n",
       "<style scoped>\n",
       "    .dataframe tbody tr th:only-of-type {\n",
       "        vertical-align: middle;\n",
       "    }\n",
       "\n",
       "    .dataframe tbody tr th {\n",
       "        vertical-align: top;\n",
       "    }\n",
       "\n",
       "    .dataframe thead th {\n",
       "        text-align: right;\n",
       "    }\n",
       "</style>\n",
       "<table border=\"1\" class=\"dataframe\">\n",
       "  <thead>\n",
       "    <tr style=\"text-align: right;\">\n",
       "      <th></th>\n",
       "      <th>Loan Category</th>\n",
       "      <th>Loan_Amount_Issued</th>\n",
       "    </tr>\n",
       "    <tr>\n",
       "      <th>Demographic_Category</th>\n",
       "      <th></th>\n",
       "      <th></th>\n",
       "    </tr>\n",
       "  </thead>\n",
       "  <tbody>\n",
       "    <tr>\n",
       "      <th>ADULT SINGLE</th>\n",
       "      <td>196</td>\n",
       "      <td>196</td>\n",
       "    </tr>\n",
       "    <tr>\n",
       "      <th>OVER 50s</th>\n",
       "      <td>466</td>\n",
       "      <td>466</td>\n",
       "    </tr>\n",
       "    <tr>\n",
       "      <th>OVER 65s</th>\n",
       "      <td>335</td>\n",
       "      <td>335</td>\n",
       "    </tr>\n",
       "    <tr>\n",
       "      <th>SINGLE PARENT</th>\n",
       "      <td>325</td>\n",
       "      <td>325</td>\n",
       "    </tr>\n",
       "    <tr>\n",
       "      <th>YOUNG FAMILY</th>\n",
       "      <td>235</td>\n",
       "      <td>235</td>\n",
       "    </tr>\n",
       "    <tr>\n",
       "      <th>YOUNG SINGLE</th>\n",
       "      <td>376</td>\n",
       "      <td>376</td>\n",
       "    </tr>\n",
       "  </tbody>\n",
       "</table>\n",
       "</div>"
      ],
      "text/plain": [
       "                      Loan Category  Loan_Amount_Issued\n",
       "Demographic_Category                                   \n",
       "ADULT SINGLE                    196                 196\n",
       "OVER 50s                        466                 466\n",
       "OVER 65s                        335                 335\n",
       "SINGLE PARENT                   325                 325\n",
       "YOUNG FAMILY                    235                 235\n",
       "YOUNG SINGLE                    376                 376"
      ]
     },
     "execution_count": 13,
     "metadata": {},
     "output_type": "execute_result"
    }
   ],
   "source": [
    "# Independent variable.\n",
    "independent = df['Demographic_Category']\n",
    "independent\n",
    "#use grouby and get count of each gender in dataset\n",
    "df.groupby(by = \"Demographic_Category\").count()"
   ]
  },
  {
   "cell_type": "markdown",
   "metadata": {},
   "source": [
    "Pass -So for my first test one way anova we are going to use the demographic category as my dependent variable which has seven independent groups as required "
   ]
  },
  {
   "cell_type": "markdown",
   "metadata": {},
   "source": [
    "_______________________________"
   ]
  },
  {
   "cell_type": "markdown",
   "metadata": {},
   "source": [
    "**Assumption 3:**\n",
    "\n",
    "You should have independence of observations, which means that there is no relationship between the observations in each group or between the groups themselves"
   ]
  },
  {
   "cell_type": "markdown",
   "metadata": {},
   "source": [
    "Pass - age demographic has to fit into one of the cateogries - you cant have two ages"
   ]
  },
  {
   "cell_type": "markdown",
   "metadata": {},
   "source": [
    "______________"
   ]
  },
  {
   "cell_type": "markdown",
   "metadata": {},
   "source": [
    "***Assumption 4: Outliers***\n",
    "\n",
    "There should be no significant outliers."
   ]
  },
  {
   "cell_type": "code",
   "execution_count": 14,
   "metadata": {},
   "outputs": [
    {
     "data": {
      "text/plain": [
       "<matplotlib.axes._subplots.AxesSubplot at 0x1f09d54c610>"
      ]
     },
     "execution_count": 14,
     "metadata": {},
     "output_type": "execute_result"
    },
    {
     "data": {
      "image/png": "[encoded data removed]",
      "text/plain": [
       "<Figure size 432x288 with 1 Axes>"
      ]
     },
     "metadata": {
      "needs_background": "light"
     },
     "output_type": "display_data"
    }
   ],
   "source": [
    "# https://seaborn.pydata.org/generated/seaborn.boxplot.html\n",
    "sns.boxplot(x=dependent, y=independent)"
   ]
  },
  {
   "cell_type": "markdown",
   "metadata": {},
   "source": [
    "Pass - There is a few \"stray\" values but im happy the majority of the values/counts are withing the required ranges and will proceed."
   ]
  },
  {
   "cell_type": "markdown",
   "metadata": {},
   "source": [
    "_______________"
   ]
  },
  {
   "cell_type": "markdown",
   "metadata": {},
   "source": [
    "***Assumption 5: Normality***\n",
    "\n",
    "Dependent variable should be approximately normally distributed for each category of the independent variable."
   ]
  },
  {
   "cell_type": "code",
   "execution_count": 15,
   "metadata": {},
   "outputs": [
    {
     "data": {
      "text/plain": [
       "<seaborn.axisgrid.FacetGrid at 0x1f09d535670>"
      ]
     },
     "execution_count": 15,
     "metadata": {},
     "output_type": "execute_result"
    },
    {
     "data": {
      "image/png": "[encoded data removed]",
      "text/plain": [
       "<Figure size 485.5x360 with 1 Axes>"
      ]
     },
     "metadata": {
      "needs_background": "light"
     },
     "output_type": "display_data"
    }
   ],
   "source": [
    "# KDEs of the three categories.\n",
    "\n",
    "# KDEs of the three categories.\n",
    "sns.displot(x=dependent, hue=independent, kind=\"kde\")"
   ]
  },
  {
   "cell_type": "code",
   "execution_count": 16,
   "metadata": {},
   "outputs": [
    {
     "name": "stdout",
     "output_type": "stream",
     "text": [
      "Young Single Shapiro Result:\n"
     ]
    },
    {
     "data": {
      "text/plain": [
       "ShapiroResult(statistic=0.8684596419334412, pvalue=2.3879262824912095e-13)"
      ]
     },
     "execution_count": 16,
     "metadata": {},
     "output_type": "execute_result"
    }
   ],
   "source": [
    "print (\"Young Single Shapiro Result:\")\n",
    "test_shapiro = dependent[independent == 'YOUNG FAMILY']\n",
    "ss.shapiro(test_shapiro)"
   ]
  },
  {
   "cell_type": "code",
   "execution_count": 17,
   "metadata": {},
   "outputs": [
    {
     "name": "stdout",
     "output_type": "stream",
     "text": [
      "Young Single Shapiro Result:\n"
     ]
    },
    {
     "data": {
      "text/plain": [
       "ShapiroResult(statistic=0.8836050629615784, pvalue=2.9057121975604564e-18)"
      ]
     },
     "execution_count": 17,
     "metadata": {},
     "output_type": "execute_result"
    }
   ],
   "source": [
    "print (\"Young Single Shapiro Result:\")\n",
    "test_shapiro = dependent[independent == 'OVER 50s']\n",
    "ss.shapiro(test_shapiro)"
   ]
  },
  {
   "cell_type": "markdown",
   "metadata": {},
   "source": [
    "Ok so we have some curves - bell shaped to a degree. I have run the shapiro test on a few of my groups and the results are not promising ....\n",
    "\n",
    "To be honest this is real world data and to expect it to have a perfect normal distribution woudl not appear normal to me but maybe thats the wrong way of looking at this\n",
    "\n",
    "I will continue however...."
   ]
  },
  {
   "cell_type": "markdown",
   "metadata": {},
   "source": [
    "_______________"
   ]
  },
  {
   "cell_type": "markdown",
   "metadata": {},
   "source": [
    "***Assumption 6: Homogeneity of Variances***\n",
    "\n",
    "There needs to be homogeneity of variances\n",
    "\n",
    "https://docs.scipy.org/doc/scipy/reference/generated/scipy.stats.levene.html"
   ]
  },
  {
   "cell_type": "code",
   "execution_count": 18,
   "metadata": {},
   "outputs": [
    {
     "data": {
      "text/plain": [
       "LeveneResult(statistic=9.005794604852767, pvalue=1.7947369758180297e-08)"
      ]
     },
     "execution_count": 18,
     "metadata": {},
     "output_type": "execute_result"
    }
   ],
   "source": [
    "# Test for equal variances.\n",
    "ss.levene(\n",
    "\n",
    "    dependent[independent == 'YOUNG SINGLE'],\n",
    "    dependent[independent == 'YOUNG FAMILY'],\n",
    "    dependent[independent == 'ADULT SINGLE'],\n",
    "    dependent[independent == 'SINGLE PARENT'],\n",
    "    dependent[independent == 'OVER 50s'],\n",
    "    dependent[independent == 'OVER 65s'],\n",
    ")"
   ]
  },
  {
   "cell_type": "markdown",
   "metadata": {},
   "source": [
    "Ok so we were able to run levenes test for Homogeneity of Variances and the result is not good - a small P Value like we have in my case suggests that the populations do not have equal variances \n",
    "so my assumptions 4 and 6 are not good - will continue for my own learning process and run seperate anova on another dataset as well "
   ]
  },
  {
   "cell_type": "markdown",
   "metadata": {},
   "source": [
    "Although my resuot is bad i have to remmber it was run on multple group 6 in total - might be cheating by I may be only intereseted in running this test with only 3 groups"
   ]
  },
  {
   "cell_type": "code",
   "execution_count": 19,
   "metadata": {},
   "outputs": [
    {
     "data": {
      "text/plain": [
       "LeveneResult(statistic=1.2621310449511487, pvalue=0.2834696692909791)"
      ]
     },
     "execution_count": 19,
     "metadata": {},
     "output_type": "execute_result"
    }
   ],
   "source": [
    "# Test for equal variances.\n",
    "ss.levene(\n",
    "\n",
    "    dependent[independent == 'YOUNG SINGLE'],\n",
    "    dependent[independent == 'YOUNG FAMILY'],\n",
    "    dependent[independent ==  'OVER 50s']\n",
    "\n",
    ")"
   ]
  },
  {
   "cell_type": "markdown",
   "metadata": {},
   "source": [
    "Interesting result in that our p value is now 0.28 well above the treshold of 0.05 and would pass this levene \n",
    "test "
   ]
  },
  {
   "cell_type": "markdown",
   "metadata": {},
   "source": [
    "## Performing a One Way Anova on my sample work dataset"
   ]
  },
  {
   "cell_type": "markdown",
   "metadata": {},
   "source": [
    "https://docs.scipy.org/doc/scipy/reference/generated/scipy.stats.f_oneway.html"
   ]
  },
  {
   "cell_type": "code",
   "execution_count": 20,
   "metadata": {},
   "outputs": [
    {
     "data": {
      "text/plain": [
       "F_onewayResult(statistic=12.199381414505334, pvalue=1.1600654561077999e-11)"
      ]
     },
     "execution_count": 20,
     "metadata": {},
     "output_type": "execute_result"
    }
   ],
   "source": [
    "# ANOVA.\n",
    "ss.f_oneway(\n",
    "    dependent[independent == 'YOUNG SINGLE'],\n",
    "    dependent[independent == 'YOUNG FAMILY'],\n",
    "    dependent[independent == 'ADULT SINGLE'],\n",
    "    dependent[independent == 'SINGLE PARENT'],\n",
    "    dependent[independent == 'OVER 50s'],\n",
    "    dependent[independent == 'OVER 65s'],\n",
    "    )"
   ]
  },
  {
   "cell_type": "markdown",
   "metadata": {},
   "source": [
    "__Conclusion__\n",
    "\n",
    "The mean borrowing amounts of my various demographics are different - Tiny P value we should reject the Null hypnothesis"
   ]
  },
  {
   "cell_type": "markdown",
   "metadata": {},
   "source": [
    "____________"
   ]
  },
  {
   "cell_type": "markdown",
   "metadata": {},
   "source": [
    "__Further testing__\n",
    "As above with Levens test what if i was only interested in 3 groups rather than 6 (might be cheating a little as i know from my previous box plot the means look promising)"
   ]
  },
  {
   "cell_type": "code",
   "execution_count": 21,
   "metadata": {},
   "outputs": [
    {
     "data": {
      "text/plain": [
       "F_onewayResult(statistic=2.1113956955596627, pvalue=0.12157113509488456)"
      ]
     },
     "execution_count": 21,
     "metadata": {},
     "output_type": "execute_result"
    }
   ],
   "source": [
    "# ANOVA.\n",
    "ss.f_oneway(\n",
    "    dependent[independent == 'YOUNG SINGLE'],\n",
    "    dependent[independent == 'YOUNG FAMILY'],\n",
    "    dependent[independent == 'OVER 50s'],\n",
    "    \n",
    "    )"
   ]
  },
  {
   "cell_type": "markdown",
   "metadata": {},
   "source": [
    "Ok so my ANNOVA one way test result of 0.12 shows that there is __NO__ statiscally difference in the mean of the loan amounts applied for in the above demographics"
   ]
  },
  {
   "cell_type": "code",
   "execution_count": 22,
   "metadata": {},
   "outputs": [
    {
     "data": {
      "text/plain": [
       "F_onewayResult(statistic=12.072160046159535, pvalue=0.0005393694005889853)"
      ]
     },
     "execution_count": 22,
     "metadata": {},
     "output_type": "execute_result"
    }
   ],
   "source": [
    "# ANOVA.\n",
    "ss.f_oneway(\n",
    "    dependent[independent == 'OVER 50s'],\n",
    "    dependent[independent == 'OVER 65s'],\n",
    "    )"
   ]
  },
  {
   "cell_type": "markdown",
   "metadata": {},
   "source": [
    "We can see that the significance value is 0.0005  which is below 0.05. and, therefore, there __IS__  a statistically significant difference in the mean loan amounts applied for. I found this suprising i thought there wouldnt be and that the means would be similar but as show by the box plot above as well there is and statsically the amounts applied for over 65s match more closely with single adults and single parents as show below with a pvalue of  0.0586 just above my threshold."
   ]
  },
  {
   "cell_type": "code",
   "execution_count": 23,
   "metadata": {},
   "outputs": [
    {
     "data": {
      "text/plain": [
       "F_onewayResult(statistic=2.853286830785751, pvalue=0.05820494657536651)"
      ]
     },
     "execution_count": 23,
     "metadata": {},
     "output_type": "execute_result"
    }
   ],
   "source": [
    "# ANOVA.\n",
    "ss.f_oneway(\n",
    "    dependent[independent == 'ADULT SINGLE'],\n",
    "    dependent[independent == 'SINGLE PARENT'],\n",
    "    dependent[independent == 'OVER 65s'],\n",
    "    )"
   ]
  },
  {
   "cell_type": "markdown",
   "metadata": {},
   "source": [
    "#### PERFORMING WELCH ANOVA\n",
    "\n",
    "If assumption 6 fails we can carry out a WELCH ANOVA test which is an open course code contributed to the scipy.stats github repository - copied from below\n",
    "\n",
    "Unequal Variances\n",
    "\n",
    "https://github.com/scipy/scipy/issues/11122#issuecomment-587964214"
   ]
  },
  {
   "cell_type": "code",
   "execution_count": 24,
   "metadata": {},
   "outputs": [],
   "source": [
    "def welch_anova_np(*args, var_equal=False):\n",
    "    # https://svn.r-project.org/R/trunk/src/library/stats/R/oneway.test.R\n",
    "    # translated from R Welch ANOVA (not assuming equal variance)\n",
    "\n",
    "    F_onewayResult = co.namedtuple('F_onewayResult', ('statistic', 'pvalue'))\n",
    "\n",
    "    args = [np.asarray(arg, dtype=float) for arg in args]\n",
    "    k = len(args)\n",
    "    ni = np.array([len(arg) for arg in args])\n",
    "    mi = np.array([np.mean(arg) for arg in args])\n",
    "    vi = np.array([np.var(arg,ddof=1) for arg in args])\n",
    "    wi = ni/vi\n",
    "\n",
    "    tmp =sum((1-wi/sum(wi))**2 / (ni-1))\n",
    "    tmp /= (k**2 -1)\n",
    "\n",
    "    dfbn = k - 1\n",
    "    dfwn = 1 / (3 * tmp)\n",
    "\n",
    "    m = sum(mi*wi) / sum(wi)\n",
    "    f = sum(wi * (mi - m)**2) /((dfbn) * (1 + 2 * (dfbn - 1) * tmp))\n",
    "    prob = spec.fdtrc(dfbn, dfwn, f)   # equivalent to stats.f.sf\n",
    "    return F_onewayResult(f, prob)"
   ]
  },
  {
   "cell_type": "code",
   "execution_count": 25,
   "metadata": {},
   "outputs": [
    {
     "data": {
      "text/plain": [
       "F_onewayResult(statistic=12.878332214891223, pvalue=4.578209746553461e-12)"
      ]
     },
     "execution_count": 25,
     "metadata": {},
     "output_type": "execute_result"
    }
   ],
   "source": [
    "# Perform the test.\n",
    "welch_anova_np(\n",
    "    dependent[independent == 'YOUNG SINGLE'],\n",
    "    dependent[independent == 'YOUNG FAMILY'],\n",
    "    dependent[independent == 'ADULT SINGLE'],\n",
    "    dependent[independent == 'SINGLE PARENT'],\n",
    "    dependent[independent == 'OVER 50s'],\n",
    "    dependent[independent == 'OVER 65s'],\n",
    ")"
   ]
  },
  {
   "cell_type": "markdown",
   "metadata": {},
   "source": [
    "Conclusion our result is that our assumption is correct and the means of our demorgraphic groups are statiscally significant "
   ]
  },
  {
   "cell_type": "markdown",
   "metadata": {},
   "source": [
    "_________"
   ]
  },
  {
   "cell_type": "markdown",
   "metadata": {},
   "source": [
    "## Post Hoct Test"
   ]
  },
  {
   "cell_type": "markdown",
   "metadata": {},
   "source": [
    "ANOVA tests tell us whether we have an overall difference between your groups, but it does not tell us which specific groups differed – post hoc tests do. Because post hoc tests are run to confirm where the differences occurred between groups, they should only be run when you have a shown an overall statistically significant difference in group means (i.e., a statistically significant one-way ANOVA result).\n",
    "\n",
    "As our data did not meet the homogeneity of variances assumption, you should consider running the Games Howell post hoc test as per recomendations  \n",
    "- https://statistics.laerd.com/statistical-guides/one-way-anova-statistical-guide-4.php\n"
   ]
  },
  {
   "cell_type": "markdown",
   "metadata": {},
   "source": [
    "## Games Howell Test\n",
    "\n",
    "https://pingouin-stats.org/generated/pingouin.pairwise_gameshowell.html\n",
    "    \n",
    "#pingouin.pairwise_gameshowell"
   ]
  },
  {
   "cell_type": "code",
   "execution_count": 30,
   "metadata": {},
   "outputs": [
    {
     "data": {
      "text/html": [
       "<div>\n",
       "<style scoped>\n",
       "    .dataframe tbody tr th:only-of-type {\n",
       "        vertical-align: middle;\n",
       "    }\n",
       "\n",
       "    .dataframe tbody tr th {\n",
       "        vertical-align: top;\n",
       "    }\n",
       "\n",
       "    .dataframe thead th {\n",
       "        text-align: right;\n",
       "    }\n",
       "</style>\n",
       "<table border=\"1\" class=\"dataframe\">\n",
       "  <thead>\n",
       "    <tr style=\"text-align: right;\">\n",
       "      <th></th>\n",
       "      <th>A</th>\n",
       "      <th>B</th>\n",
       "      <th>mean(A)</th>\n",
       "      <th>mean(B)</th>\n",
       "      <th>diff</th>\n",
       "      <th>se</th>\n",
       "      <th>T</th>\n",
       "      <th>df</th>\n",
       "      <th>pval</th>\n",
       "      <th>hedges</th>\n",
       "    </tr>\n",
       "  </thead>\n",
       "  <tbody>\n",
       "    <tr>\n",
       "      <th>0</th>\n",
       "      <td>ADULT SINGLE</td>\n",
       "      <td>OVER 50s</td>\n",
       "      <td>2140.859</td>\n",
       "      <td>2381.063</td>\n",
       "      <td>-240.204</td>\n",
       "      <td>135.624</td>\n",
       "      <td>-1.771</td>\n",
       "      <td>399.094</td>\n",
       "      <td>0.486</td>\n",
       "      <td>-0.151</td>\n",
       "    </tr>\n",
       "    <tr>\n",
       "      <th>1</th>\n",
       "      <td>ADULT SINGLE</td>\n",
       "      <td>OVER 65s</td>\n",
       "      <td>2140.859</td>\n",
       "      <td>1979.203</td>\n",
       "      <td>161.656</td>\n",
       "      <td>137.407</td>\n",
       "      <td>1.176</td>\n",
       "      <td>396.701</td>\n",
       "      <td>0.829</td>\n",
       "      <td>0.106</td>\n",
       "    </tr>\n",
       "    <tr>\n",
       "      <th>2</th>\n",
       "      <td>ADULT SINGLE</td>\n",
       "      <td>SINGLE PARENT</td>\n",
       "      <td>2140.859</td>\n",
       "      <td>1825.024</td>\n",
       "      <td>315.834</td>\n",
       "      <td>135.579</td>\n",
       "      <td>2.330</td>\n",
       "      <td>382.669</td>\n",
       "      <td>0.185</td>\n",
       "      <td>0.210</td>\n",
       "    </tr>\n",
       "    <tr>\n",
       "      <th>3</th>\n",
       "      <td>ADULT SINGLE</td>\n",
       "      <td>YOUNG FAMILY</td>\n",
       "      <td>2140.859</td>\n",
       "      <td>2488.973</td>\n",
       "      <td>-348.115</td>\n",
       "      <td>160.013</td>\n",
       "      <td>-2.176</td>\n",
       "      <td>428.109</td>\n",
       "      <td>0.251</td>\n",
       "      <td>-0.210</td>\n",
       "    </tr>\n",
       "    <tr>\n",
       "      <th>4</th>\n",
       "      <td>ADULT SINGLE</td>\n",
       "      <td>YOUNG SINGLE</td>\n",
       "      <td>2140.859</td>\n",
       "      <td>2627.319</td>\n",
       "      <td>-486.461</td>\n",
       "      <td>142.394</td>\n",
       "      <td>-3.416</td>\n",
       "      <td>437.895</td>\n",
       "      <td>0.009</td>\n",
       "      <td>-0.301</td>\n",
       "    </tr>\n",
       "    <tr>\n",
       "      <th>5</th>\n",
       "      <td>OVER 50s</td>\n",
       "      <td>OVER 65s</td>\n",
       "      <td>2381.063</td>\n",
       "      <td>1979.203</td>\n",
       "      <td>401.860</td>\n",
       "      <td>113.290</td>\n",
       "      <td>3.547</td>\n",
       "      <td>766.880</td>\n",
       "      <td>0.006</td>\n",
       "      <td>0.254</td>\n",
       "    </tr>\n",
       "    <tr>\n",
       "      <th>6</th>\n",
       "      <td>OVER 50s</td>\n",
       "      <td>SINGLE PARENT</td>\n",
       "      <td>2381.063</td>\n",
       "      <td>1825.024</td>\n",
       "      <td>556.038</td>\n",
       "      <td>111.065</td>\n",
       "      <td>5.006</td>\n",
       "      <td>764.074</td>\n",
       "      <td>0.001</td>\n",
       "      <td>0.361</td>\n",
       "    </tr>\n",
       "    <tr>\n",
       "      <th>7</th>\n",
       "      <td>OVER 50s</td>\n",
       "      <td>YOUNG FAMILY</td>\n",
       "      <td>2381.063</td>\n",
       "      <td>2488.973</td>\n",
       "      <td>-107.911</td>\n",
       "      <td>139.850</td>\n",
       "      <td>-0.772</td>\n",
       "      <td>451.344</td>\n",
       "      <td>0.900</td>\n",
       "      <td>-0.062</td>\n",
       "    </tr>\n",
       "    <tr>\n",
       "      <th>8</th>\n",
       "      <td>OVER 50s</td>\n",
       "      <td>YOUNG SINGLE</td>\n",
       "      <td>2381.063</td>\n",
       "      <td>2627.319</td>\n",
       "      <td>-246.256</td>\n",
       "      <td>119.290</td>\n",
       "      <td>-2.064</td>\n",
       "      <td>793.962</td>\n",
       "      <td>0.307</td>\n",
       "      <td>-0.143</td>\n",
       "    </tr>\n",
       "    <tr>\n",
       "      <th>9</th>\n",
       "      <td>OVER 65s</td>\n",
       "      <td>SINGLE PARENT</td>\n",
       "      <td>1979.203</td>\n",
       "      <td>1825.024</td>\n",
       "      <td>154.178</td>\n",
       "      <td>113.236</td>\n",
       "      <td>1.362</td>\n",
       "      <td>657.630</td>\n",
       "      <td>0.723</td>\n",
       "      <td>0.106</td>\n",
       "    </tr>\n",
       "    <tr>\n",
       "      <th>10</th>\n",
       "      <td>OVER 65s</td>\n",
       "      <td>YOUNG FAMILY</td>\n",
       "      <td>1979.203</td>\n",
       "      <td>2488.973</td>\n",
       "      <td>-509.770</td>\n",
       "      <td>141.580</td>\n",
       "      <td>-3.601</td>\n",
       "      <td>447.254</td>\n",
       "      <td>0.005</td>\n",
       "      <td>-0.306</td>\n",
       "    </tr>\n",
       "    <tr>\n",
       "      <th>11</th>\n",
       "      <td>OVER 65s</td>\n",
       "      <td>YOUNG SINGLE</td>\n",
       "      <td>1979.203</td>\n",
       "      <td>2627.319</td>\n",
       "      <td>-648.116</td>\n",
       "      <td>121.313</td>\n",
       "      <td>-5.343</td>\n",
       "      <td>708.028</td>\n",
       "      <td>0.001</td>\n",
       "      <td>-0.401</td>\n",
       "    </tr>\n",
       "    <tr>\n",
       "      <th>12</th>\n",
       "      <td>SINGLE PARENT</td>\n",
       "      <td>YOUNG FAMILY</td>\n",
       "      <td>1825.024</td>\n",
       "      <td>2488.973</td>\n",
       "      <td>-663.949</td>\n",
       "      <td>139.806</td>\n",
       "      <td>-4.749</td>\n",
       "      <td>432.798</td>\n",
       "      <td>0.001</td>\n",
       "      <td>-0.406</td>\n",
       "    </tr>\n",
       "    <tr>\n",
       "      <th>13</th>\n",
       "      <td>SINGLE PARENT</td>\n",
       "      <td>YOUNG SINGLE</td>\n",
       "      <td>1825.024</td>\n",
       "      <td>2627.319</td>\n",
       "      <td>-802.295</td>\n",
       "      <td>119.238</td>\n",
       "      <td>-6.729</td>\n",
       "      <td>696.455</td>\n",
       "      <td>0.001</td>\n",
       "      <td>-0.509</td>\n",
       "    </tr>\n",
       "    <tr>\n",
       "      <th>14</th>\n",
       "      <td>YOUNG FAMILY</td>\n",
       "      <td>YOUNG SINGLE</td>\n",
       "      <td>2488.973</td>\n",
       "      <td>2627.319</td>\n",
       "      <td>-138.346</td>\n",
       "      <td>146.425</td>\n",
       "      <td>-0.945</td>\n",
       "      <td>489.753</td>\n",
       "      <td>0.900</td>\n",
       "      <td>-0.078</td>\n",
       "    </tr>\n",
       "  </tbody>\n",
       "</table>\n",
       "</div>"
      ],
      "text/plain": [
       "                A              B   mean(A)   mean(B)     diff       se      T  \\\n",
       "0    ADULT SINGLE       OVER 50s  2140.859  2381.063 -240.204  135.624 -1.771   \n",
       "1    ADULT SINGLE       OVER 65s  2140.859  1979.203  161.656  137.407  1.176   \n",
       "2    ADULT SINGLE  SINGLE PARENT  2140.859  1825.024  315.834  135.579  2.330   \n",
       "3    ADULT SINGLE   YOUNG FAMILY  2140.859  2488.973 -348.115  160.013 -2.176   \n",
       "4    ADULT SINGLE   YOUNG SINGLE  2140.859  2627.319 -486.461  142.394 -3.416   \n",
       "5        OVER 50s       OVER 65s  2381.063  1979.203  401.860  113.290  3.547   \n",
       "6        OVER 50s  SINGLE PARENT  2381.063  1825.024  556.038  111.065  5.006   \n",
       "7        OVER 50s   YOUNG FAMILY  2381.063  2488.973 -107.911  139.850 -0.772   \n",
       "8        OVER 50s   YOUNG SINGLE  2381.063  2627.319 -246.256  119.290 -2.064   \n",
       "9        OVER 65s  SINGLE PARENT  1979.203  1825.024  154.178  113.236  1.362   \n",
       "10       OVER 65s   YOUNG FAMILY  1979.203  2488.973 -509.770  141.580 -3.601   \n",
       "11       OVER 65s   YOUNG SINGLE  1979.203  2627.319 -648.116  121.313 -5.343   \n",
       "12  SINGLE PARENT   YOUNG FAMILY  1825.024  2488.973 -663.949  139.806 -4.749   \n",
       "13  SINGLE PARENT   YOUNG SINGLE  1825.024  2627.319 -802.295  119.238 -6.729   \n",
       "14   YOUNG FAMILY   YOUNG SINGLE  2488.973  2627.319 -138.346  146.425 -0.945   \n",
       "\n",
       "         df   pval  hedges  \n",
       "0   399.094  0.486  -0.151  \n",
       "1   396.701  0.829   0.106  \n",
       "2   382.669  0.185   0.210  \n",
       "3   428.109  0.251  -0.210  \n",
       "4   437.895  0.009  -0.301  \n",
       "5   766.880  0.006   0.254  \n",
       "6   764.074  0.001   0.361  \n",
       "7   451.344  0.900  -0.062  \n",
       "8   793.962  0.307  -0.143  \n",
       "9   657.630  0.723   0.106  \n",
       "10  447.254  0.005  -0.306  \n",
       "11  708.028  0.001  -0.401  \n",
       "12  432.798  0.001  -0.406  \n",
       "13  696.455  0.001  -0.509  \n",
       "14  489.753  0.900  -0.078  "
      ]
     },
     "execution_count": 30,
     "metadata": {},
     "output_type": "execute_result"
    }
   ],
   "source": [
    "import pingouin as pg\n",
    "pg.pairwise_gameshowell(data=df, dv='Loan_Amount_Issued',between='Demographic_Category').round(3)"
   ]
  },
  {
   "cell_type": "code",
   "execution_count": null,
   "metadata": {},
   "outputs": [],
   "source": []
  },
  {
   "cell_type": "markdown",
   "metadata": {},
   "source": [
    "_____________"
   ]
  },
  {
   "cell_type": "markdown",
   "metadata": {},
   "source": [
    "## Perform One way Anova on my Grades Dataset"
   ]
  },
  {
   "cell_type": "markdown",
   "metadata": {},
   "source": [
    "I already have my grades dataset loaded in so we will can just review as df_grades"
   ]
  },
  {
   "cell_type": "code",
   "execution_count": null,
   "metadata": {},
   "outputs": [],
   "source": [
    "#display dataframe\n",
    "df_grades"
   ]
  },
  {
   "cell_type": "markdown",
   "metadata": {},
   "source": [
    "### **Assumptions**"
   ]
  },
  {
   "cell_type": "markdown",
   "metadata": {},
   "source": [
    "________________"
   ]
  },
  {
   "cell_type": "markdown",
   "metadata": {},
   "source": [
    "***Assumption 1: Dependent variable***\n",
    "\n",
    "Dependent variable should be measured at the interval or ratio level."
   ]
  },
  {
   "cell_type": "code",
   "execution_count": null,
   "metadata": {},
   "outputs": [],
   "source": [
    "# Course grade is The dependent variable.\n",
    "dependent2 = df_grades['course_grade']\n",
    "x = dependent2\n",
    "x"
   ]
  },
  {
   "cell_type": "markdown",
   "metadata": {},
   "source": [
    "Passed grades are mesasured at numerical intervals from 0 - 100"
   ]
  },
  {
   "cell_type": "markdown",
   "metadata": {},
   "source": [
    "________________"
   ]
  },
  {
   "cell_type": "markdown",
   "metadata": {},
   "source": [
    "***Assumption 2: Independent variable***\n",
    "\n",
    "Independent variable should consist of two or more categorical, independent groups."
   ]
  },
  {
   "cell_type": "code",
   "execution_count": null,
   "metadata": {},
   "outputs": [],
   "source": [
    "# Independent variable.\n",
    "independent2 = df_grades['sex']\n",
    "independent2\n",
    "#use grouby and get count of each gender in dataset\n",
    "df_grades.groupby(by = \"sex\").count()"
   ]
  },
  {
   "cell_type": "markdown",
   "metadata": {},
   "source": [
    "Check - Independent variable will be gender - male or female"
   ]
  },
  {
   "cell_type": "markdown",
   "metadata": {},
   "source": [
    "_________________"
   ]
  },
  {
   "cell_type": "markdown",
   "metadata": {},
   "source": [
    "**Assumption 3:**\n",
    "\n",
    "You should have independence of observations, which means that there is no relationship between the observations in each group or between the groups themselves"
   ]
  },
  {
   "cell_type": "markdown",
   "metadata": {},
   "source": [
    "Pass- gender has to be either male or female"
   ]
  },
  {
   "cell_type": "markdown",
   "metadata": {},
   "source": [
    "___________"
   ]
  },
  {
   "cell_type": "markdown",
   "metadata": {},
   "source": [
    "***Assumption 4: Outliers***\n",
    "\n",
    "There should be no significant outliers."
   ]
  },
  {
   "cell_type": "code",
   "execution_count": null,
   "metadata": {},
   "outputs": [],
   "source": [
    "# https://seaborn.pydata.org/generated/seaborn.boxplot.html\n",
    "sns.boxplot(x=dependent2, y=independent2)"
   ]
  },
  {
   "cell_type": "markdown",
   "metadata": {},
   "source": [
    "Pass - We can note from above there is some outliers for male but should not be significant enough to affect our anova, this can be seen with the outliers shows as diamond symbols -  further testing to see ..."
   ]
  },
  {
   "cell_type": "markdown",
   "metadata": {},
   "source": [
    "______________"
   ]
  },
  {
   "cell_type": "markdown",
   "metadata": {},
   "source": [
    "***Assumption 5: Normality***\n",
    "\n",
    "Dependent variable should be approximately normally distributed for each category of the independent variable."
   ]
  },
  {
   "cell_type": "code",
   "execution_count": null,
   "metadata": {},
   "outputs": [],
   "source": [
    "# KDEs of the three categories.\n",
    "\n",
    "# KDEs of the three categories.\n",
    "sns.displot(x=dependent2, hue=independent2, kind=\"kde\")"
   ]
  },
  {
   "cell_type": "markdown",
   "metadata": {},
   "source": [
    "We can see from plot above both the dependent variable \"grade\" for each gender can be classed as normally distributed"
   ]
  },
  {
   "cell_type": "markdown",
   "metadata": {},
   "source": [
    "____________"
   ]
  },
  {
   "cell_type": "markdown",
   "metadata": {},
   "source": [
    "***Assumption 6: Homogeneity of Variances***\n",
    "\n",
    "There needs to be homogeneity of variances"
   ]
  },
  {
   "cell_type": "code",
   "execution_count": null,
   "metadata": {},
   "outputs": [],
   "source": [
    "# Test for equal variances.\n",
    "ss.levene(\n",
    "    dependent2[independent2 == 'Man'],\n",
    "    dependent2[independent2 == 'Woman'],\n",
    "    )"
   ]
  },
  {
   "cell_type": "markdown",
   "metadata": {},
   "source": [
    "Ok so we were able to run levenes test for Homogeneity of Variances and the result is good for conducting our one way anova - the result is a high P Value which suggest populations do have equal varinances."
   ]
  },
  {
   "cell_type": "markdown",
   "metadata": {},
   "source": [
    "_____________"
   ]
  },
  {
   "cell_type": "markdown",
   "metadata": {},
   "source": [
    "### Perform One-way ANOVA"
   ]
  },
  {
   "cell_type": "code",
   "execution_count": null,
   "metadata": {},
   "outputs": [],
   "source": [
    "# ANOVA.\n",
    "ss.f_oneway(\n",
    "    dependent2[independent2 == 'Man'],\n",
    "    dependent2[independent2 == 'Woman'],\n",
    "    )"
   ]
  },
  {
   "cell_type": "markdown",
   "metadata": {},
   "source": [
    "__Grades Dataset ANNOVA One Way Finding and Conclusion__ - "
   ]
  },
  {
   "cell_type": "markdown",
   "metadata": {},
   "source": [
    "If a p-value reported from a t test is less than 0.05, then that result is said to be statistically significant. If a p-value is greater than 0.05, then the result is insignificant.\n",
    "\n",
    "In our __ANNOVA__ one way test of final course grades per gender groups our p-value is .16 or 16% , above our threshold value of 0.05; therefore we can determine that there is NO statistically significant difference final grades between the gender groups male and female. This is an interest post where the opposite was the finding and there as a statistical significance between the gender groups - https://www.southampton.ac.uk/passs/gcse_scores/bivariate_analysis/t_test.page"
   ]
  },
  {
   "cell_type": "markdown",
   "metadata": {},
   "source": [
    "Our p value of .16 matches the T test p value of .16 performed earlier so in the case of two groups either test would be appropriate  (t-Test recommended for 2 groups) where as the ANNOVA test can be further used where there is 3 or more groups per variable or a two way ANNOVA when there is two or more independent variables."
   ]
  },
  {
   "cell_type": "markdown",
   "metadata": {},
   "source": [
    "__________"
   ]
  },
  {
   "cell_type": "markdown",
   "metadata": {},
   "source": [
    "### Post Hoct Tests"
   ]
  },
  {
   "cell_type": "markdown",
   "metadata": {},
   "source": [
    "_______________"
   ]
  },
  {
   "cell_type": "markdown",
   "metadata": {},
   "source": [
    "### Conclusion and Findings"
   ]
  },
  {
   "cell_type": "markdown",
   "metadata": {},
   "source": [
    "__________"
   ]
  },
  {
   "cell_type": "markdown",
   "metadata": {},
   "source": [
    "### References and Research"
   ]
  },
  {
   "cell_type": "markdown",
   "metadata": {},
   "source": [
    "#### Scipy and Scipy.stats\n",
    "\n",
    "[1] Offical SciPy website - https://scipy.org/\n",
    "\n",
    "[2] Tutroialspoint SciPy quick guide: https://www.tutorialspoint.com/scipy/scipy_quick_guide.htm\n",
    "\n",
    "[3] Offical SciPy stats refernce website: https://docs.scipy.org/doc/scipy/reference/stats.html\n",
    "\n",
    "\n",
    "#### Anova Testing - T Tests \n",
    "\n",
    "[4] Four Ways to Conduct One-Way ANOVA with Python - Erik Marsja - [https://www.marsja.se/four-ways-to-conduct-one-way-anovas-using-python/]\n",
    "\n",
    "[5] Exploratory Data Analysis in Python - GeeksforGeeks - [https://www.geeksforgeeks.org/exploratory-data-analysis-in-python/]\n",
    "\n",
    "[6] Anova Testing :https://www.analyticsvidhya.com/blog/2020/06/introduction-anova-statistics-data-science-covid-python/\n",
    "\n",
    "[7] ANOVA Test: Definition, Types, Examples, SPSS - Statistics How To [https://www.statisticshowto.com/probability-and-statistics/hypothesis-testing/anova/]\n",
    "\n",
    "[8] Anova test Southhamption Academic https://www.southampton.ac.uk/passs/gcse_scores/bivariate_analysis/t_test.page\n",
    "\n",
    "\n",
    "#### Homogeneity of Variances\n",
    "[9] Leven Test https://docs.scipy.org/doc/scipy/reference/generated/scipy.stats.levene.html\n",
    "\n",
    "[10] https://statistics.laerd.com/statistical-guides/independent-t-test-statistical-guide.php\n",
    "\n",
    "\n",
    "\n",
    "####  Other \n",
    "\n",
    "[11 ]Pandas Group By: https://pandas.pydata.org/docs/reference/api/pandas.DataFrame.groupby.html\n",
    "\n",
    "[12] Boxplot - \n",
    "\n",
    "[13] Cat Plot - \n",
    "\n",
    "\n",
    "Basic Syntax Markdown - https://www.markdownguide.org/basic-syntax/\n",
    "\n"
   ]
  },
  {
   "cell_type": "markdown",
   "metadata": {},
   "source": [
    "# END"
   ]
  },
  {
   "cell_type": "code",
   "execution_count": null,
   "metadata": {},
   "outputs": [],
   "source": []
  }
 ],
 "metadata": {
  "kernelspec": {
   "display_name": "Python 3",
   "language": "python",
   "name": "python3"
  },
  "language_info": {
   "codemirror_mode": {
    "name": "ipython",
    "version": 3
   },
   "file_extension": ".py",
   "mimetype": "text/x-python",
   "name": "python",
   "nbconvert_exporter": "python",
   "pygments_lexer": "ipython3",
   "version": "3.8.3"
  }
 },
 "nbformat": 4,
 "nbformat_minor": 4
}

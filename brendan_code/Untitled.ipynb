{
 "cells": [
  {
   "cell_type": "code",
   "execution_count": null,
   "metadata": {},
   "outputs": [],
   "source": []
  },
  {
   "cell_type": "code",
   "execution_count": 4,
   "metadata": {},
   "outputs": [],
   "source": []
  },
  {
   "cell_type": "code",
   "execution_count": 4,
   "metadata": {},
   "outputs": [],
   "source": [
    "from sklearn import datasets as datasets #have to import in the indivdual libraries for datasets"
   ]
  },
  {
   "cell_type": "code",
   "execution_count": 1,
   "metadata": {},
   "outputs": [
    {
     "data": {
      "text/plain": [
       "0.631578947368421"
      ]
     },
     "execution_count": 1,
     "metadata": {},
     "output_type": "execute_result"
    }
   ],
   "source": [
    "from sklearn import neighbors, datasets, preprocessing\n",
    "from sklearn.model_selection import train_test_split\n",
    "from sklearn.metrics import accuracy_score\n",
    "iris = datasets.load_iris()\n",
    "X, y = iris.data[:, :2], iris.target\n",
    "X_train, X_test, y_train, y_test = train_test_split(X, y, random_state=33)\n",
    "scaler = preprocessing.StandardScaler().fit(X_train)\n",
    "X_train = scaler.transform(X_train)\n",
    "X_test = scaler.transform(X_test)\n",
    "knn = neighbors.KNeighborsClassifier(n_neighbors=5)\n",
    "knn.fit(X_train, y_train)\n",
    "y_pred = knn.predict(X_test)\n",
    "accuracy_score(y_test, y_pred)"
   ]
  },
  {
   "cell_type": "code",
   "execution_count": 2,
   "metadata": {},
   "outputs": [],
   "source": [
    "import numpy as np\n",
    "X = np.random.random((10,5))\n",
    "y = np.array(['M','M','F','F','M','F','M','M','F','F','F'])\n",
    "X[X < 0.7] = 0"
   ]
  },
  {
   "cell_type": "code",
   "execution_count": 6,
   "metadata": {},
   "outputs": [
    {
     "data": {
      "text/plain": [
       "array([[-0.09752318, -0.33607276],\n",
       "       [ 1.06445511,  0.08448757],\n",
       "       [-1.25950146,  0.29476773],\n",
       "       [ 0.83205945, -0.54635292],\n",
       "       [ 0.36726814, -0.96691325],\n",
       "       [ 0.59966379,  0.50504789],\n",
       "       [-1.14330363,  0.71532806],\n",
       "       [-0.79471015,  0.92560822],\n",
       "       [ 0.71586162,  0.08448757],\n",
       "       [ 1.29685076,  0.29476773],\n",
       "       [ 1.18065293,  0.29476773],\n",
       "       [-1.60809495, -0.1257926 ],\n",
       "       [ 0.59966379,  0.71532806],\n",
       "       [ 0.36726814, -0.33607276],\n",
       "       [ 1.29685076,  0.08448757],\n",
       "       [ 0.71586162, -0.33607276],\n",
       "       [ 0.25107031, -0.1257926 ],\n",
       "       [-0.67851232,  0.92560822],\n",
       "       [ 0.59966379,  0.50504789],\n",
       "       [ 1.64544425,  0.29476773],\n",
       "       [-1.0271058 ,  0.08448757],\n",
       "       [-0.09752318,  1.55644871],\n",
       "       [ 0.83205945, -0.1257926 ],\n",
       "       [-1.14330363, -0.1257926 ],\n",
       "       [ 0.25107031, -1.8080339 ],\n",
       "       [ 0.48346596, -0.54635292],\n",
       "       [ 0.36726814, -0.1257926 ],\n",
       "       [ 0.36726814, -0.54635292],\n",
       "       [ 0.83205945, -0.1257926 ],\n",
       "       [ 0.13487248, -0.1257926 ],\n",
       "       [-0.21372101, -0.75663309],\n",
       "       [ 1.06445511,  0.08448757],\n",
       "       [-0.21372101, -0.54635292],\n",
       "       [ 0.71586162,  0.29476773],\n",
       "       [ 1.06445511,  0.08448757],\n",
       "       [ 1.06445511, -0.1257926 ],\n",
       "       [ 0.01867465, -0.75663309],\n",
       "       [-0.09752318, -0.1257926 ]])"
      ]
     },
     "execution_count": 6,
     "metadata": {},
     "output_type": "execute_result"
    }
   ],
   "source": [
    "from sklearn.preprocessing import StandardScaler\n",
    "scaler = StandardScaler().fit(X_train)\n",
    "standardized_X = scaler.transform(X_train)\n",
    "standardized_X_test = scaler.transform(X_test)\n",
    "standardized_X_test"
   ]
  },
  {
   "cell_type": "code",
   "execution_count": 4,
   "metadata": {},
   "outputs": [],
   "source": [
    "from sklearn.preprocessing import Normalizer\n",
    "scaler = Normalizer().fit(X_train)\n",
    "normalized_X = scaler.transform(X_train)\n",
    "normalized_X_test = scaler.transform(X_test)"
   ]
  },
  {
   "cell_type": "code",
   "execution_count": 5,
   "metadata": {},
   "outputs": [
    {
     "data": {
      "text/plain": [
       "array([[-0.27868808, -0.96038167],\n",
       "       [ 0.99686488,  0.07912282],\n",
       "       [-0.97368976,  0.22787772],\n",
       "       [ 0.83590322, -0.54887685],\n",
       "       [ 0.35508351, -0.93483458],\n",
       "       [ 0.76486855,  0.64418638],\n",
       "       [-0.84774384,  0.53040587],\n",
       "       [-0.65142041,  0.75871698],\n",
       "       [ 0.9931073 ,  0.11720871],\n",
       "       [ 0.97512816,  0.22164178],\n",
       "       [ 0.97021893,  0.24222972],\n",
       "       [-0.99695443, -0.07798637],\n",
       "       [ 0.64243063,  0.76634384],\n",
       "       [ 0.7377439 , -0.67508069],\n",
       "       [ 0.99788458,  0.06501044],\n",
       "       [ 0.90520967, -0.42496525],\n",
       "       [ 0.89406019, -0.44794685],\n",
       "       [-0.59121234,  0.80651594],\n",
       "       [ 0.76486855,  0.64418638],\n",
       "       [ 0.98433028,  0.17633463],\n",
       "       [-0.99663389,  0.08198101],\n",
       "       [-0.06253486,  0.99804278],\n",
       "       [ 0.98876421, -0.14948357],\n",
       "       [-0.9940016 , -0.10936556],\n",
       "       [ 0.13754391, -0.99049567],\n",
       "       [ 0.66269211, -0.74889196],\n",
       "       [ 0.94604698, -0.32402949],\n",
       "       [ 0.55788555, -0.8299179 ],\n",
       "       [ 0.98876421, -0.14948357],\n",
       "       [ 0.73129427, -0.68206209],\n",
       "       [-0.27182734, -0.96234604],\n",
       "       [ 0.99686488,  0.07912282],\n",
       "       [-0.36429695, -0.93128284],\n",
       "       [ 0.92467756,  0.38075111],\n",
       "       [ 0.99686488,  0.07912282],\n",
       "       [ 0.99308956, -0.11735893],\n",
       "       [ 0.02467374, -0.99969556],\n",
       "       [-0.61270477, -0.79031187]])"
      ]
     },
     "execution_count": 5,
     "metadata": {},
     "output_type": "execute_result"
    }
   ],
   "source": [
    "normalized_X_test"
   ]
  },
  {
   "cell_type": "code",
   "execution_count": null,
   "metadata": {},
   "outputs": [],
   "source": []
  }
 ],
 "metadata": {
  "kernelspec": {
   "display_name": "Python 3",
   "language": "python",
   "name": "python3"
  },
  "language_info": {
   "codemirror_mode": {
    "name": "ipython",
    "version": 3
   },
   "file_extension": ".py",
   "mimetype": "text/x-python",
   "name": "python",
   "nbconvert_exporter": "python",
   "pygments_lexer": "ipython3",
   "version": "3.8.3"
  }
 },
 "nbformat": 4,
 "nbformat_minor": 4
}
